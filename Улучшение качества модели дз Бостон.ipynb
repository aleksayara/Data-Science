{
 "cells": [
  {
   "cell_type": "markdown",
   "id": "4ecb128b",
   "metadata": {},
   "source": [
    "## Домашнее задание на тему: \"Улучшение качества модели\""
   ]
  },
  {
   "cell_type": "code",
   "execution_count": 57,
   "id": "4847bd68",
   "metadata": {},
   "outputs": [],
   "source": [
    "from sklearn.datasets import load_boston\n",
    "import pandas as pd\n",
    "import numpy as np\n",
    "import seaborn as sns\n",
    " \n",
    "from matplotlib import pyplot as plt\n",
    "\n",
    "from sklearn.preprocessing import StandardScaler\n",
    "from sklearn.linear_model import LinearRegression\n",
    "from sklearn.model_selection import train_test_split\n",
    "import warnings\n",
    "warnings.filterwarnings(\"ignore\")"
   ]
  },
  {
   "cell_type": "code",
   "execution_count": 82,
   "id": "05a49850",
   "metadata": {},
   "outputs": [],
   "source": [
    "# загрузим данным\n",
    "data = pd.read_csv(load_boston()['filename'], skiprows=1)"
   ]
  },
  {
   "cell_type": "code",
   "execution_count": 83,
   "id": "d9358083",
   "metadata": {},
   "outputs": [
    {
     "data": {
      "text/html": [
       "<div>\n",
       "<style scoped>\n",
       "    .dataframe tbody tr th:only-of-type {\n",
       "        vertical-align: middle;\n",
       "    }\n",
       "\n",
       "    .dataframe tbody tr th {\n",
       "        vertical-align: top;\n",
       "    }\n",
       "\n",
       "    .dataframe thead th {\n",
       "        text-align: right;\n",
       "    }\n",
       "</style>\n",
       "<table border=\"1\" class=\"dataframe\">\n",
       "  <thead>\n",
       "    <tr style=\"text-align: right;\">\n",
       "      <th></th>\n",
       "      <th>CRIM</th>\n",
       "      <th>ZN</th>\n",
       "      <th>INDUS</th>\n",
       "      <th>CHAS</th>\n",
       "      <th>NOX</th>\n",
       "      <th>RM</th>\n",
       "      <th>AGE</th>\n",
       "      <th>DIS</th>\n",
       "      <th>RAD</th>\n",
       "      <th>TAX</th>\n",
       "      <th>PTRATIO</th>\n",
       "      <th>B</th>\n",
       "      <th>LSTAT</th>\n",
       "      <th>MEDV</th>\n",
       "    </tr>\n",
       "  </thead>\n",
       "  <tbody>\n",
       "    <tr>\n",
       "      <th>0</th>\n",
       "      <td>0.00632</td>\n",
       "      <td>18.0</td>\n",
       "      <td>2.31</td>\n",
       "      <td>0</td>\n",
       "      <td>0.538</td>\n",
       "      <td>6.575</td>\n",
       "      <td>65.2</td>\n",
       "      <td>4.0900</td>\n",
       "      <td>1</td>\n",
       "      <td>296</td>\n",
       "      <td>15.3</td>\n",
       "      <td>396.90</td>\n",
       "      <td>4.98</td>\n",
       "      <td>24.0</td>\n",
       "    </tr>\n",
       "    <tr>\n",
       "      <th>1</th>\n",
       "      <td>0.02731</td>\n",
       "      <td>0.0</td>\n",
       "      <td>7.07</td>\n",
       "      <td>0</td>\n",
       "      <td>0.469</td>\n",
       "      <td>6.421</td>\n",
       "      <td>78.9</td>\n",
       "      <td>4.9671</td>\n",
       "      <td>2</td>\n",
       "      <td>242</td>\n",
       "      <td>17.8</td>\n",
       "      <td>396.90</td>\n",
       "      <td>9.14</td>\n",
       "      <td>21.6</td>\n",
       "    </tr>\n",
       "    <tr>\n",
       "      <th>2</th>\n",
       "      <td>0.02729</td>\n",
       "      <td>0.0</td>\n",
       "      <td>7.07</td>\n",
       "      <td>0</td>\n",
       "      <td>0.469</td>\n",
       "      <td>7.185</td>\n",
       "      <td>61.1</td>\n",
       "      <td>4.9671</td>\n",
       "      <td>2</td>\n",
       "      <td>242</td>\n",
       "      <td>17.8</td>\n",
       "      <td>392.83</td>\n",
       "      <td>4.03</td>\n",
       "      <td>34.7</td>\n",
       "    </tr>\n",
       "    <tr>\n",
       "      <th>3</th>\n",
       "      <td>0.03237</td>\n",
       "      <td>0.0</td>\n",
       "      <td>2.18</td>\n",
       "      <td>0</td>\n",
       "      <td>0.458</td>\n",
       "      <td>6.998</td>\n",
       "      <td>45.8</td>\n",
       "      <td>6.0622</td>\n",
       "      <td>3</td>\n",
       "      <td>222</td>\n",
       "      <td>18.7</td>\n",
       "      <td>394.63</td>\n",
       "      <td>2.94</td>\n",
       "      <td>33.4</td>\n",
       "    </tr>\n",
       "    <tr>\n",
       "      <th>4</th>\n",
       "      <td>0.06905</td>\n",
       "      <td>0.0</td>\n",
       "      <td>2.18</td>\n",
       "      <td>0</td>\n",
       "      <td>0.458</td>\n",
       "      <td>7.147</td>\n",
       "      <td>54.2</td>\n",
       "      <td>6.0622</td>\n",
       "      <td>3</td>\n",
       "      <td>222</td>\n",
       "      <td>18.7</td>\n",
       "      <td>396.90</td>\n",
       "      <td>5.33</td>\n",
       "      <td>36.2</td>\n",
       "    </tr>\n",
       "  </tbody>\n",
       "</table>\n",
       "</div>"
      ],
      "text/plain": [
       "      CRIM    ZN  INDUS  CHAS    NOX     RM   AGE     DIS  RAD  TAX  PTRATIO  \\\n",
       "0  0.00632  18.0   2.31     0  0.538  6.575  65.2  4.0900    1  296     15.3   \n",
       "1  0.02731   0.0   7.07     0  0.469  6.421  78.9  4.9671    2  242     17.8   \n",
       "2  0.02729   0.0   7.07     0  0.469  7.185  61.1  4.9671    2  242     17.8   \n",
       "3  0.03237   0.0   2.18     0  0.458  6.998  45.8  6.0622    3  222     18.7   \n",
       "4  0.06905   0.0   2.18     0  0.458  7.147  54.2  6.0622    3  222     18.7   \n",
       "\n",
       "        B  LSTAT  MEDV  \n",
       "0  396.90   4.98  24.0  \n",
       "1  396.90   9.14  21.6  \n",
       "2  392.83   4.03  34.7  \n",
       "3  394.63   2.94  33.4  \n",
       "4  396.90   5.33  36.2  "
      ]
     },
     "execution_count": 83,
     "metadata": {},
     "output_type": "execute_result"
    }
   ],
   "source": [
    "data.head()"
   ]
  },
  {
   "cell_type": "code",
   "execution_count": 84,
   "id": "fc5dbd7d",
   "metadata": {},
   "outputs": [],
   "source": [
    "# отберем любые 7 регрессоров\n",
    "y = data['MEDV']\n",
    "X = data[['INDUS', 'DIS', 'PTRATIO', 'AGE', 'CRIM', 'RM', 'LSTAT']]"
   ]
  },
  {
   "cell_type": "markdown",
   "id": "89512115",
   "metadata": {},
   "source": [
    "## Кросс-валидация"
   ]
  },
  {
   "cell_type": "code",
   "execution_count": 6,
   "id": "5896db49",
   "metadata": {},
   "outputs": [],
   "source": [
    "from sklearn.model_selection import cross_val_score"
   ]
  },
  {
   "cell_type": "code",
   "execution_count": 7,
   "id": "05e61563",
   "metadata": {},
   "outputs": [],
   "source": [
    "from sklearn.ensemble import RandomForestRegressor"
   ]
  },
  {
   "cell_type": "code",
   "execution_count": 8,
   "id": "62578198",
   "metadata": {},
   "outputs": [],
   "source": [
    "from sklearn.linear_model import RidgeCV"
   ]
  },
  {
   "cell_type": "code",
   "execution_count": 9,
   "id": "5f84cd48",
   "metadata": {},
   "outputs": [],
   "source": [
    "from sklearn.linear_model import LinearRegression\n",
    "max_depth = list(range(1,15)), min_samples_split = list(range(2,15))"
   ]
  },
  {
   "cell_type": "code",
   "execution_count": 93,
   "id": "e3c56f1e",
   "metadata": {},
   "outputs": [],
   "source": [
    "# В качестве первого алгоритма рассмотрим RandomForestRegressor, кросс-валидация позволяет получить разные результаты качества модели,\n",
    "# в зависимости от разбиения на обучающую и тестовые выборки\n",
    "RndForestReg = RandomForestRegressor(max_depth = 10, min_samples_leaf = 4)\n",
    "scores = cross_val_score(RndForestReg, X, y, cv = 10)"
   ]
  },
  {
   "cell_type": "code",
   "execution_count": 94,
   "id": "833d9a48",
   "metadata": {},
   "outputs": [
    {
     "name": "stdout",
     "output_type": "stream",
     "text": [
      "[ 0.70736563  0.83348883  0.19449474  0.80362536  0.82882543  0.74447464\n",
      "  0.51212124  0.32804988 -0.28006557  0.12668205]\n",
      "0.4799062219392029\n"
     ]
    }
   ],
   "source": [
    "# средний score составил 48%\n",
    "print(scores)\n",
    "print(scores.mean())"
   ]
  },
  {
   "cell_type": "code",
   "execution_count": 97,
   "id": "ff5a7630",
   "metadata": {},
   "outputs": [],
   "source": [
    "# вторым алгоритмом возьмем ридж-регрессию\n",
    "Ridge = RidgeCV(normalize = True)\n",
    "scores = cross_val_score(Ridge, X, y, cv = 10)"
   ]
  },
  {
   "cell_type": "code",
   "execution_count": 98,
   "id": "4c248689",
   "metadata": {},
   "outputs": [
    {
     "name": "stdout",
     "output_type": "stream",
     "text": [
      "[ 0.7585919   0.6495775  -0.53714239  0.55294125  0.64560166  0.69583477\n",
      "  0.19598754  0.1052868  -0.99541077  0.48202866]\n",
      "0.2553296916066966\n"
     ]
    }
   ],
   "source": [
    "# средний score составил всего 25.5%\n",
    "print(scores)\n",
    "print(scores.mean())"
   ]
  },
  {
   "cell_type": "code",
   "execution_count": 99,
   "id": "c890d443",
   "metadata": {},
   "outputs": [
    {
     "name": "stdout",
     "output_type": "stream",
     "text": [
      "[ 0.72913547  0.6050246  -0.84640355  0.58414635  0.63579191  0.73611571\n",
      "  0.14773451  0.04383579 -1.06052643  0.43166592]\n",
      "0.20065202857237002\n"
     ]
    }
   ],
   "source": [
    "# третьим алгоритмом возьмем обычную линейную регрессию\n",
    "Lin = LinearRegression(normalize = True)\n",
    "scores = cross_val_score(Lin, X, y, cv = 10)\n",
    "print(scores)\n",
    "print(scores.mean()) \n",
    "# score составил 20.1% В целом, мы видим большой разброс значений на разных этапах кросс-валидации: от нулевых значений до 74%."
   ]
  },
  {
   "cell_type": "markdown",
   "id": "be261e12",
   "metadata": {},
   "source": [
    "## GridSearchCV"
   ]
  },
  {
   "cell_type": "code",
   "execution_count": 15,
   "id": "6badbb64",
   "metadata": {},
   "outputs": [],
   "source": [
    "from sklearn.model_selection import GridSearchCV"
   ]
  },
  {
   "cell_type": "code",
   "execution_count": 100,
   "id": "5da022c6",
   "metadata": {},
   "outputs": [
    {
     "data": {
      "text/plain": [
       "GridSearchCV(cv=10, estimator=RandomForestRegressor(), n_jobs=-1,\n",
       "             param_grid={'max_depth': [1, 2, 3, 4, 5, 6, 7, 8, 9],\n",
       "                         'min_samples_leaf': [1, 2, 3, 4, 5, 6, 7, 8, 9]})"
      ]
     },
     "execution_count": 100,
     "metadata": {},
     "output_type": "execute_result"
    }
   ],
   "source": [
    "# GridSearchCV позволяет перебирать параметры метода, для регрессии случайного леса будем перебирать глубину дерева и кол-во объектов в листах\n",
    "param_grid = {'max_depth':list(range(1,10)),\n",
    "              'min_samples_leaf':list(range(1,10))\n",
    "}\n",
    "RFR = RandomForestRegressor()\n",
    "grid = GridSearchCV(RFR, param_grid, cv=10, n_jobs = -1)\n",
    "\n",
    "grid.fit(X,y)"
   ]
  },
  {
   "cell_type": "code",
   "execution_count": 101,
   "id": "0dd67de1",
   "metadata": {},
   "outputs": [
    {
     "name": "stdout",
     "output_type": "stream",
     "text": [
      "0.483822803495916\n",
      "RandomForestRegressor(max_depth=6, min_samples_leaf=4)\n"
     ]
    }
   ],
   "source": [
    "# score немного увеличился для модели\n",
    "print(grid.best_score_)\n",
    "print(grid.best_estimator_)"
   ]
  },
  {
   "cell_type": "code",
   "execution_count": 113,
   "id": "39a1520c",
   "metadata": {},
   "outputs": [
    {
     "data": {
      "text/plain": [
       "GridSearchCV(cv=10,\n",
       "             estimator=RidgeCV(alphas=array([1.00000000e-10, 1.59228279e-10, 2.53536449e-10, 4.03701726e-10,\n",
       "       6.42807312e-10, 1.02353102e-09, 1.62975083e-09, 2.59502421e-09,\n",
       "       4.13201240e-09, 6.57933225e-09, 1.04761575e-08, 1.66810054e-08,\n",
       "       2.65608778e-08, 4.22924287e-08, 6.73415066e-08, 1.07226722e-07,\n",
       "       1.70735265e-07, 2.71858824e-07, 4.32876128e-07, 6.89261210e-07...\n",
       "       2.25701972e+05, 3.59381366e+05, 5.72236766e+05, 9.11162756e+05,\n",
       "       1.45082878e+06, 2.31012970e+06, 3.67837977e+06, 5.85702082e+06,\n",
       "       9.32603347e+06, 1.48496826e+07, 2.36448941e+07, 3.76493581e+07,\n",
       "       5.99484250e+07, 9.54548457e+07, 1.51991108e+08, 2.42012826e+08,\n",
       "       3.85352859e+08, 6.13590727e+08, 9.77009957e+08, 1.55567614e+09,\n",
       "       2.47707636e+09, 3.94420606e+09, 6.28029144e+09, 1.00000000e+10])),\n",
       "             param_grid={'normalize': [True, False]})"
      ]
     },
     "execution_count": 113,
     "metadata": {},
     "output_type": "execute_result"
    }
   ],
   "source": [
    "# для ридж-регрессии будем подбирать коэффициент альфа и использовать нормализованные и ненормализованные данные\n",
    "alphas = np.logspace(-10, 10, 100)\n",
    "param_grid = {'normalize':[True, False]}         \n",
    "Ridge = RidgeCV(alphas=alphas)\n",
    "grid = GridSearchCV(Ridge, param_grid = param_grid, cv=10)\n",
    "grid.fit(X,y)"
   ]
  },
  {
   "cell_type": "code",
   "execution_count": 114,
   "id": "28fa825e",
   "metadata": {},
   "outputs": [
    {
     "name": "stdout",
     "output_type": "stream",
     "text": [
      "0.23048629721067143\n",
      "RidgeCV(alphas=array([1.00000000e-10, 1.59228279e-10, 2.53536449e-10, 4.03701726e-10,\n",
      "       6.42807312e-10, 1.02353102e-09, 1.62975083e-09, 2.59502421e-09,\n",
      "       4.13201240e-09, 6.57933225e-09, 1.04761575e-08, 1.66810054e-08,\n",
      "       2.65608778e-08, 4.22924287e-08, 6.73415066e-08, 1.07226722e-07,\n",
      "       1.70735265e-07, 2.71858824e-07, 4.32876128e-07, 6.89261210e-07,\n",
      "       1.09749877e-06, 1.74752840e-0...\n",
      "       2.25701972e+05, 3.59381366e+05, 5.72236766e+05, 9.11162756e+05,\n",
      "       1.45082878e+06, 2.31012970e+06, 3.67837977e+06, 5.85702082e+06,\n",
      "       9.32603347e+06, 1.48496826e+07, 2.36448941e+07, 3.76493581e+07,\n",
      "       5.99484250e+07, 9.54548457e+07, 1.51991108e+08, 2.42012826e+08,\n",
      "       3.85352859e+08, 6.13590727e+08, 9.77009957e+08, 1.55567614e+09,\n",
      "       2.47707636e+09, 3.94420606e+09, 6.28029144e+09, 1.00000000e+10]),\n",
      "        normalize=True)\n"
     ]
    }
   ],
   "source": [
    "# Score немного снизился по сравнению с кросс-валидацией: видимо, границы для подбора альфа были подобраны неудачно\n",
    "print(grid.best_score_)\n",
    "print(grid.best_estimator_)"
   ]
  },
  {
   "cell_type": "markdown",
   "id": "98f34c8e",
   "metadata": {},
   "source": [
    "## RandomizedSearch"
   ]
  },
  {
   "cell_type": "code",
   "execution_count": 22,
   "id": "326c1fdf",
   "metadata": {},
   "outputs": [],
   "source": [
    "from sklearn.model_selection import RandomizedSearchCV\n",
    "from sklearn.linear_model import  Lasso"
   ]
  },
  {
   "cell_type": "code",
   "execution_count": 115,
   "id": "1432dc22",
   "metadata": {},
   "outputs": [],
   "source": [
    "X_train, X_valid, y_train, y_valid = train_test_split(X, y, test_size=0.3)"
   ]
  },
  {
   "cell_type": "code",
   "execution_count": 116,
   "id": "8926e228",
   "metadata": {},
   "outputs": [],
   "source": [
    "# RandomizedSearchCV - выбирает случайные значения из параметров и пробует запускать обучение с ними, что обеспечивает более\n",
    "# быстрое обучение при высоком score\n",
    "# возьмем три алгоритма - RandomForestRegressor, Лассо и Ридж-регрессию\n",
    "\n",
    "models=[\n",
    "      {'name':'RF',\"model\": RandomForestRegressor(), 'params':{'max_depth': list(range(1,15)), 'min_samples_leaf': list(range(2,10))}},  \n",
    "      {'name':'Ls',\"model\" : Lasso() , 'params':{'alpha':list(2**np.linspace(-10,10,100)), 'normalize':[True, False]}},\n",
    "      {'name': 'Rd', \"model\" : RidgeCV(alphas=alphas), 'params': {'normalize':[True, False]}}\n",
    "]\n",
    "\n",
    "res=[]\n",
    "for v in  models:\n",
    "    res.append((v['name'], RandomizedSearchCV(v['model'], v['params'], cv=10).fit(X_train, y_train)))"
   ]
  },
  {
   "cell_type": "code",
   "execution_count": 117,
   "id": "6f6d55a5",
   "metadata": {},
   "outputs": [
    {
     "name": "stdout",
     "output_type": "stream",
     "text": [
      "RF 0.8609984020857434 {'min_samples_leaf': 3, 'max_depth': 6}\n",
      "Ls 0.6956296085049181 {'normalize': False, 'alpha': 0.021262343752724643}\n",
      "Rd 0.69910743867449 {'normalize': True}\n"
     ]
    }
   ],
   "source": [
    "# результаты потрясающие, Score увеличился с неудовлетворительных значений (20-48%) до 86%\n",
    "for r in res:\n",
    "    print(r[0], r[1].best_score_, r[1].best_params_)"
   ]
  },
  {
   "cell_type": "code",
   "execution_count": 119,
   "id": "ed1064b5",
   "metadata": {},
   "outputs": [
    {
     "name": "stdout",
     "output_type": "stream",
     "text": [
      "RF 0.6373779294095769\n",
      "Ls 0.5563031798193988\n",
      "Rd 0.5584632902321816\n"
     ]
    }
   ],
   "source": [
    "# Проверим качество моделей на отложенной выборке. По-прежнему регрессия случайного леса дает лучший результат.\n",
    "for r in res:\n",
    "    print(r[0], r[1].best_estimator_.score(X_valid, y_valid))"
   ]
  },
  {
   "cell_type": "code",
   "execution_count": null,
   "id": "1e568608",
   "metadata": {},
   "outputs": [],
   "source": []
  }
 ],
 "metadata": {
  "kernelspec": {
   "display_name": "Python 3",
   "language": "python",
   "name": "python3"
  },
  "language_info": {
   "codemirror_mode": {
    "name": "ipython",
    "version": 3
   },
   "file_extension": ".py",
   "mimetype": "text/x-python",
   "name": "python",
   "nbconvert_exporter": "python",
   "pygments_lexer": "ipython3",
   "version": "3.8.8"
  }
 },
 "nbformat": 4,
 "nbformat_minor": 5
}
