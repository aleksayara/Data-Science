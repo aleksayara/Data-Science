{
 "cells": [
  {
   "cell_type": "code",
   "execution_count": 1,
   "id": "09c1f068",
   "metadata": {},
   "outputs": [],
   "source": [
    "import pandas as pd\n",
    "from sklearn.model_selection import train_test_split\n",
    "import  matplotlib.pyplot as plt\n",
    "import numpy as np"
   ]
  },
  {
   "cell_type": "code",
   "execution_count": 2,
   "id": "add2651a",
   "metadata": {},
   "outputs": [],
   "source": [
    "dataset = pd.read_csv(r'affair_data.csv')"
   ]
  },
  {
   "cell_type": "code",
   "execution_count": 3,
   "id": "0e042b98",
   "metadata": {},
   "outputs": [
    {
     "data": {
      "text/html": [
       "<div>\n",
       "<style scoped>\n",
       "    .dataframe tbody tr th:only-of-type {\n",
       "        vertical-align: middle;\n",
       "    }\n",
       "\n",
       "    .dataframe tbody tr th {\n",
       "        vertical-align: top;\n",
       "    }\n",
       "\n",
       "    .dataframe thead th {\n",
       "        text-align: right;\n",
       "    }\n",
       "</style>\n",
       "<table border=\"1\" class=\"dataframe\">\n",
       "  <thead>\n",
       "    <tr style=\"text-align: right;\">\n",
       "      <th></th>\n",
       "      <th>rate_marriage</th>\n",
       "      <th>age</th>\n",
       "      <th>yrs_married</th>\n",
       "      <th>children</th>\n",
       "      <th>religious</th>\n",
       "      <th>educ</th>\n",
       "      <th>occupation</th>\n",
       "      <th>occupation_husb</th>\n",
       "      <th>affair</th>\n",
       "    </tr>\n",
       "  </thead>\n",
       "  <tbody>\n",
       "    <tr>\n",
       "      <th>0</th>\n",
       "      <td>3.0</td>\n",
       "      <td>32.0</td>\n",
       "      <td>9.0</td>\n",
       "      <td>3.0</td>\n",
       "      <td>3.0</td>\n",
       "      <td>17.0</td>\n",
       "      <td>2.0</td>\n",
       "      <td>5.0</td>\n",
       "      <td>1</td>\n",
       "    </tr>\n",
       "    <tr>\n",
       "      <th>1</th>\n",
       "      <td>3.0</td>\n",
       "      <td>27.0</td>\n",
       "      <td>13.0</td>\n",
       "      <td>3.0</td>\n",
       "      <td>1.0</td>\n",
       "      <td>14.0</td>\n",
       "      <td>3.0</td>\n",
       "      <td>4.0</td>\n",
       "      <td>1</td>\n",
       "    </tr>\n",
       "    <tr>\n",
       "      <th>2</th>\n",
       "      <td>4.0</td>\n",
       "      <td>22.0</td>\n",
       "      <td>2.5</td>\n",
       "      <td>0.0</td>\n",
       "      <td>1.0</td>\n",
       "      <td>16.0</td>\n",
       "      <td>3.0</td>\n",
       "      <td>5.0</td>\n",
       "      <td>1</td>\n",
       "    </tr>\n",
       "    <tr>\n",
       "      <th>3</th>\n",
       "      <td>4.0</td>\n",
       "      <td>37.0</td>\n",
       "      <td>16.5</td>\n",
       "      <td>4.0</td>\n",
       "      <td>3.0</td>\n",
       "      <td>16.0</td>\n",
       "      <td>5.0</td>\n",
       "      <td>5.0</td>\n",
       "      <td>1</td>\n",
       "    </tr>\n",
       "    <tr>\n",
       "      <th>4</th>\n",
       "      <td>5.0</td>\n",
       "      <td>27.0</td>\n",
       "      <td>9.0</td>\n",
       "      <td>1.0</td>\n",
       "      <td>1.0</td>\n",
       "      <td>14.0</td>\n",
       "      <td>3.0</td>\n",
       "      <td>4.0</td>\n",
       "      <td>1</td>\n",
       "    </tr>\n",
       "  </tbody>\n",
       "</table>\n",
       "</div>"
      ],
      "text/plain": [
       "   rate_marriage   age  yrs_married  children  religious  educ  occupation  \\\n",
       "0            3.0  32.0          9.0       3.0        3.0  17.0         2.0   \n",
       "1            3.0  27.0         13.0       3.0        1.0  14.0         3.0   \n",
       "2            4.0  22.0          2.5       0.0        1.0  16.0         3.0   \n",
       "3            4.0  37.0         16.5       4.0        3.0  16.0         5.0   \n",
       "4            5.0  27.0          9.0       1.0        1.0  14.0         3.0   \n",
       "\n",
       "   occupation_husb  affair  \n",
       "0              5.0       1  \n",
       "1              4.0       1  \n",
       "2              5.0       1  \n",
       "3              5.0       1  \n",
       "4              4.0       1  "
      ]
     },
     "execution_count": 3,
     "metadata": {},
     "output_type": "execute_result"
    }
   ],
   "source": [
    "dataset.head()"
   ]
  },
  {
   "cell_type": "code",
   "execution_count": 4,
   "id": "407c6627",
   "metadata": {},
   "outputs": [
    {
     "name": "stdout",
     "output_type": "stream",
     "text": [
      "<class 'pandas.core.frame.DataFrame'>\n",
      "RangeIndex: 6366 entries, 0 to 6365\n",
      "Data columns (total 9 columns):\n",
      " #   Column           Non-Null Count  Dtype  \n",
      "---  ------           --------------  -----  \n",
      " 0   rate_marriage    6366 non-null   float64\n",
      " 1   age              6366 non-null   float64\n",
      " 2   yrs_married      6366 non-null   float64\n",
      " 3   children         6366 non-null   float64\n",
      " 4   religious        6366 non-null   float64\n",
      " 5   educ             6366 non-null   float64\n",
      " 6   occupation       6366 non-null   float64\n",
      " 7   occupation_husb  6366 non-null   float64\n",
      " 8   affair           6366 non-null   int64  \n",
      "dtypes: float64(8), int64(1)\n",
      "memory usage: 447.7 KB\n"
     ]
    }
   ],
   "source": [
    "dataset.info()"
   ]
  },
  {
   "cell_type": "code",
   "execution_count": 5,
   "id": "5f753a4a",
   "metadata": {},
   "outputs": [],
   "source": [
    "data = dataset[dataset.columns[:-1]]"
   ]
  },
  {
   "cell_type": "code",
   "execution_count": 6,
   "id": "c3fe9511",
   "metadata": {},
   "outputs": [],
   "source": [
    "target = dataset['affair']"
   ]
  },
  {
   "cell_type": "code",
   "execution_count": 7,
   "id": "1dc1ee7b",
   "metadata": {},
   "outputs": [],
   "source": [
    "from sklearn.linear_model import LogisticRegression"
   ]
  },
  {
   "cell_type": "code",
   "execution_count": 8,
   "id": "bd351dbf",
   "metadata": {},
   "outputs": [],
   "source": [
    "x_train, x_test, y_train, y_test = train_test_split(data, target, test_size = 0.3, random_state = 0)"
   ]
  },
  {
   "cell_type": "code",
   "execution_count": 9,
   "id": "1d69df0f",
   "metadata": {},
   "outputs": [],
   "source": [
    "model = LogisticRegression()"
   ]
  },
  {
   "cell_type": "code",
   "execution_count": 10,
   "id": "91f43515",
   "metadata": {},
   "outputs": [
    {
     "data": {
      "text/plain": [
       "LogisticRegression()"
      ]
     },
     "execution_count": 10,
     "metadata": {},
     "output_type": "execute_result"
    }
   ],
   "source": [
    "model.fit(x_train, y_train)"
   ]
  },
  {
   "cell_type": "code",
   "execution_count": 11,
   "id": "31e50938",
   "metadata": {},
   "outputs": [],
   "source": [
    "predictions = model.predict_proba(x_test)"
   ]
  },
  {
   "cell_type": "code",
   "execution_count": 12,
   "id": "531b5964",
   "metadata": {},
   "outputs": [
    {
     "data": {
      "text/plain": [
       "array([[0.37442487, 0.62557513],\n",
       "       [0.92523133, 0.07476867],\n",
       "       [0.68436963, 0.31563037],\n",
       "       ...,\n",
       "       [0.54059867, 0.45940133],\n",
       "       [0.79790212, 0.20209788],\n",
       "       [0.77284695, 0.22715305]])"
      ]
     },
     "execution_count": 12,
     "metadata": {},
     "output_type": "execute_result"
    }
   ],
   "source": [
    "predictions"
   ]
  },
  {
   "cell_type": "code",
   "execution_count": 13,
   "id": "2f1883ca",
   "metadata": {},
   "outputs": [
    {
     "data": {
      "text/plain": [
       "0.7235188509874326"
      ]
     },
     "execution_count": 13,
     "metadata": {},
     "output_type": "execute_result"
    }
   ],
   "source": [
    "model.score(x_train, y_train)"
   ]
  },
  {
   "cell_type": "code",
   "execution_count": 14,
   "id": "d0ad08c7",
   "metadata": {},
   "outputs": [
    {
     "data": {
      "text/plain": [
       "0.7319371727748691"
      ]
     },
     "execution_count": 14,
     "metadata": {},
     "output_type": "execute_result"
    }
   ],
   "source": [
    "model.score(x_test, y_test)"
   ]
  },
  {
   "cell_type": "code",
   "execution_count": 18,
   "id": "d44afa0b",
   "metadata": {},
   "outputs": [],
   "source": [
    "def tpr(tp, fn):\n",
    "    return tp / (tp + fn)"
   ]
  },
  {
   "cell_type": "code",
   "execution_count": 19,
   "id": "c11c4661",
   "metadata": {},
   "outputs": [],
   "source": [
    "def fpr(fp, tn):\n",
    "    return fp / (fp + tn)"
   ]
  },
  {
   "cell_type": "code",
   "execution_count": 20,
   "id": "59d0ff8b",
   "metadata": {},
   "outputs": [],
   "source": [
    "tp = 0\n",
    "tn = 0\n",
    "fp = 0\n",
    "fn = 0\n",
    "for predict, target in zip(predictions[:,1], y_test):\n",
    "    if predict >= 0.5:\n",
    "        predict_class = 1\n",
    "    else:\n",
    "        predict_class = 0\n",
    "    if predict_class == 1: \n",
    "        if target == 1:\n",
    "            tp += 1\n",
    "        else:\n",
    "            fp += 1\n",
    "    else:\n",
    "        if target == 0:\n",
    "            tn += 1\n",
    "        else:\n",
    "            fn += 1"
   ]
  },
  {
   "cell_type": "code",
   "execution_count": 21,
   "id": "67f55173",
   "metadata": {},
   "outputs": [
    {
     "data": {
      "text/plain": [
       "0.3723228995057661"
      ]
     },
     "execution_count": 21,
     "metadata": {},
     "output_type": "execute_result"
    }
   ],
   "source": [
    "tpr = tpr(tp, fn)\n",
    "tpr"
   ]
  },
  {
   "cell_type": "code",
   "execution_count": 22,
   "id": "eb2c69e8",
   "metadata": {},
   "outputs": [
    {
     "data": {
      "text/plain": [
       "0.10053722179585571"
      ]
     },
     "execution_count": 22,
     "metadata": {},
     "output_type": "execute_result"
    }
   ],
   "source": [
    "fpr = fpr(fp, tn)\n",
    "fpr"
   ]
  },
  {
   "cell_type": "code",
   "execution_count": 23,
   "id": "eb39e613",
   "metadata": {},
   "outputs": [
    {
     "name": "stdout",
     "output_type": "stream",
     "text": [
      "m_minus:357, m_plus:1553\n"
     ]
    }
   ],
   "source": [
    "m_minus = 0\n",
    "m_plus = 0\n",
    "for predict in predictions[:,1]:\n",
    "    if predict >= 0.5:\n",
    "        m_minus += 1\n",
    "    else:\n",
    "        m_plus += 1\n",
    "print('m_minus:{}, m_plus:{}'.format(m_minus, m_plus))"
   ]
  },
  {
   "cell_type": "code",
   "execution_count": 25,
   "id": "6376defb",
   "metadata": {},
   "outputs": [],
   "source": [
    "# Построим график ROC AUC и сравним с графиком, построенным с помощью встроенных инструментов"
   ]
  },
  {
   "cell_type": "code",
   "execution_count": 39,
   "id": "a8394a6c",
   "metadata": {},
   "outputs": [],
   "source": [
    "fpr = []\n",
    "tpr = []\n",
    "auc = 0\n",
    "tp = 0\n",
    "fp = 0\n",
    "tn  = 0\n",
    "fn = 0 \n",
    "threshold = np.arange(0.0, 1.01, .01)\n",
    "for i in threshold:\n",
    "    for predict, target in zip(predictions[:,1], y_test):\n",
    "        if predict > i:\n",
    "            if target == 1:\n",
    "                tp += 1\n",
    "            if target == 0:\n",
    "                fp += 1\n",
    "        else:\n",
    "            if target == 1:\n",
    "                fn += 1\n",
    "            if target == 0:\n",
    "                tn += 1\n",
    "    fpr.append(fp / (fp + tn))\n",
    "    tpr.append(tp / (tp + fn))"
   ]
  },
  {
   "cell_type": "code",
   "execution_count": 40,
   "id": "bd4dd044",
   "metadata": {},
   "outputs": [
    {
     "data": {
      "image/png": "[encoded data removed]",
      "text/plain": [
       "<Figure size 432x288 with 1 Axes>"
      ]
     },
     "metadata": {
      "needs_background": "light"
     },
     "output_type": "display_data"
    }
   ],
   "source": [
    "plt.plot( fpr, tpr )\n",
    "plt.grid()"
   ]
  },
  {
   "cell_type": "code",
   "execution_count": 28,
   "id": "a959621d",
   "metadata": {},
   "outputs": [],
   "source": [
    "from sklearn.metrics import roc_curve"
   ]
  },
  {
   "cell_type": "code",
   "execution_count": 29,
   "id": "5115aaf9",
   "metadata": {},
   "outputs": [],
   "source": [
    "fpr2, tpr2, thres2 = roc_curve( y_test, predictions[:, 1] )"
   ]
  },
  {
   "cell_type": "code",
   "execution_count": 30,
   "id": "1852a341",
   "metadata": {},
   "outputs": [
    {
     "data": {
      "image/png": "[encoded data removed]",
      "text/plain": [
       "<Figure size 432x288 with 1 Axes>"
      ]
     },
     "metadata": {
      "needs_background": "light"
     },
     "output_type": "display_data"
    }
   ],
   "source": [
    "plt.plot( fpr2, tpr2 )\n",
    "plt.grid()"
   ]
  },
  {
   "cell_type": "code",
   "execution_count": 44,
   "id": "1c66319b",
   "metadata": {},
   "outputs": [],
   "source": [
    "# Рассчитаем площадь под кривой"
   ]
  },
  {
   "cell_type": "code",
   "execution_count": 45,
   "id": "af47a25f",
   "metadata": {},
   "outputs": [],
   "source": [
    "auc = 0\n",
    "auc_sq = []\n",
    "for i in range(len(tpr)):\n",
    "    auc_sq.append(auc)\n",
    "    auc += tpr[i] / float(m_minus)"
   ]
  },
  {
   "cell_type": "code",
   "execution_count": 46,
   "id": "fea85f4f",
   "metadata": {},
   "outputs": [
    {
     "data": {
      "text/plain": [
       "[0,\n",
       " 0.0010948358738215183,\n",
       " 0.003284507621464555,\n",
       " 0.00656901524292911,\n",
       " 0.010948358738215183,\n",
       " 0.016422538107322776,\n",
       " 0.022991553350251888,\n",
       " 0.030655404467002517,\n",
       " 0.039414091457574664,\n",
       " 0.049265810638485924,\n",
       " 0.06020515095928907,\n",
       " 0.07222670136953688,\n",
       " 0.08532865818574695,\n",
       " 0.09950200299050722,\n",
       " 0.11473050263247606,\n",
       " 0.13099792396031176,\n",
       " 0.14830065960704952,\n",
       " 0.16662969115527732,\n",
       " 0.18597058913713588,\n",
       " 0.20631072776824833,\n",
       " 0.22763387389727302,\n",
       " 0.24992018700590346,\n",
       " 0.2731516302593156,\n",
       " 0.2973227926070622,\n",
       " 0.3224084224803895,\n",
       " 0.34838867936099105,\n",
       " 0.37525093746449,\n",
       " 0.4029807673230271,\n",
       " 0.4315601321017783,\n",
       " 0.4609583691815426,\n",
       " 0.4911520306770487,\n",
       " 0.5221122576525782,\n",
       " 0.5538246206402716,\n",
       " 0.586262064387893,\n",
       " 0.6194083557441006,\n",
       " 0.6532508689245177,\n",
       " 0.6877751744612849,\n",
       " 0.7229506097352013,\n",
       " 0.7587501194940308,\n",
       " 0.7951520595359844,\n",
       " 0.8321456077601679,\n",
       " 0.8697181383822042,\n",
       " 0.9078534182507518,\n",
       " 0.9465370178979513,\n",
       " 0.9857472931220139,\n",
       " 1.0254644034046332,\n",
       " 1.0656739192779496,\n",
       " 1.1063487854897274,\n",
       " 1.1474637504712126,\n",
       " 1.1890134031719581,\n",
       " 1.2309833141241047,\n",
       " 1.2733608575432753,\n",
       " 1.3161261929111636,\n",
       " 1.3592648907599103,\n",
       " 1.402766128988621,\n",
       " 1.4466118707624716,\n",
       " 1.4907912939805676,\n",
       " 1.5352845581246026,\n",
       " 1.5800790374101996,\n",
       " 1.6251603023694996,\n",
       " 1.6705121198511605,\n",
       " 1.7161236677542884,\n",
       " 1.761982320294506,\n",
       " 1.808077255370919,\n",
       " 1.8543958471991506,\n",
       " 1.9009200589443767,\n",
       " 1.9476354611387379,\n",
       " 1.9945330353648223,\n",
       " 2.0416109779391474,\n",
       " 2.0888566630773364,\n",
       " 2.13626287604546,\n",
       " 2.183822402109588,\n",
       " 2.2315190081183793,\n",
       " 2.2793382646039744,\n",
       " 2.3272729568324433,\n",
       " 2.375314066386374,\n",
       " 2.4234507711648727,\n",
       " 2.47166864170008,\n",
       " 2.5199658743085127,\n",
       " 2.5683334505727595,\n",
       " 2.616765959442373,\n",
       " 2.665257989866906,\n",
       " 2.7138005234289464,\n",
       " 2.7623863453945647,\n",
       " 2.811008241029831,\n",
       " 2.8596626029677807,\n",
       " 2.9083422164744843,\n",
       " 2.9570434741829765,\n",
       " 3.005759161359328,\n",
       " 3.054485670636574,\n",
       " 3.103221198331232,\n",
       " 3.1519639407598197,\n",
       " 3.2007084868718896,\n",
       " 3.249454836667442,\n",
       " 3.2982011864629945,\n",
       " 3.346947536258547,\n",
       " 3.3956938860540995,\n",
       " 3.444440235849652,\n",
       " 3.4931865856452045,\n",
       " 3.541932935440757,\n",
       " 3.5906792852363094]"
      ]
     },
     "execution_count": 46,
     "metadata": {},
     "output_type": "execute_result"
    }
   ],
   "source": [
    "auc_sq"
   ]
  },
  {
   "cell_type": "code",
   "execution_count": 47,
   "id": "aef95ebf",
   "metadata": {},
   "outputs": [
    {
     "data": {
      "image/png": "[encoded data removed]",
      "text/plain": [
       "<Figure size 432x288 with 1 Axes>"
      ]
     },
     "metadata": {
      "needs_background": "light"
     },
     "output_type": "display_data"
    }
   ],
   "source": [
    "plt.plot( threshold, auc_sq )\n",
    "plt.grid()"
   ]
  },
  {
   "cell_type": "code",
   "execution_count": 48,
   "id": "86770343",
   "metadata": {},
   "outputs": [],
   "source": [
    "# Построим график precision - recall"
   ]
  },
  {
   "cell_type": "code",
   "execution_count": 49,
   "id": "dfa6c5f4",
   "metadata": {},
   "outputs": [],
   "source": [
    "pr = []\n",
    "recall = []\n",
    "tp = 0\n",
    "fp = 0\n",
    "fn = 0\n",
    "threshold = np.arange(0.0, 1.01, .01)\n",
    "for i in threshold:\n",
    "    for predict, target in zip(predictions[:,1], y_test):\n",
    "        if predict > i:\n",
    "            if target == 1:\n",
    "                tp += 1\n",
    "            if target == 0:\n",
    "                fp += 1\n",
    "        else:\n",
    "            if target == 1:\n",
    "                fn += 1\n",
    "    pr.append(tp / (tp + fp))\n",
    "    recall.append(tp / (tp + fn))"
   ]
  },
  {
   "cell_type": "code",
   "execution_count": 50,
   "id": "2d69c05a",
   "metadata": {},
   "outputs": [
    {
     "data": {
      "image/png": "[encoded data removed]",
      "text/plain": [
       "<Figure size 432x288 with 1 Axes>"
      ]
     },
     "metadata": {
      "needs_background": "light"
     },
     "output_type": "display_data"
    }
   ],
   "source": [
    "plt.plot( pr, recall )\n",
    "plt.grid()"
   ]
  },
  {
   "cell_type": "code",
   "execution_count": null,
   "id": "f16e5eeb",
   "metadata": {},
   "outputs": [],
   "source": []
  }
 ],
 "metadata": {
  "kernelspec": {
   "display_name": "Python 3",
   "language": "python",
   "name": "python3"
  },
  "language_info": {
   "codemirror_mode": {
    "name": "ipython",
    "version": 3
   },
   "file_extension": ".py",
   "mimetype": "text/x-python",
   "name": "python",
   "nbconvert_exporter": "python",
   "pygments_lexer": "ipython3",
   "version": "3.8.8"
  }
 },
 "nbformat": 4,
 "nbformat_minor": 5
}
