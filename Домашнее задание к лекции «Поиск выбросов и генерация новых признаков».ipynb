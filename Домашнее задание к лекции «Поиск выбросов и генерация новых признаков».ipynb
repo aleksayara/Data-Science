{
 "cells": [
  {
   "cell_type": "code",
   "execution_count": 1,
   "id": "8d11eaa4",
   "metadata": {},
   "outputs": [],
   "source": [
    "import pandas as pd\n",
    "import numpy as np\n",
    "from sklearn.ensemble import RandomForestRegressor\n",
    "from sklearn.model_selection import train_test_split\n",
    "from matplotlib import pyplot as plt\n",
    "from sklearn.model_selection import GridSearchCV\n",
    "from sklearn.metrics import make_scorer\n",
    "from sklearn.metrics import r2_score\n",
    "from sklearn.model_selection import ShuffleSplit"
   ]
  },
  {
   "cell_type": "code",
   "execution_count": 193,
   "id": "3d4e5333",
   "metadata": {},
   "outputs": [
    {
     "data": {
      "text/html": [
       "<div>\n",
       "<style scoped>\n",
       "    .dataframe tbody tr th:only-of-type {\n",
       "        vertical-align: middle;\n",
       "    }\n",
       "\n",
       "    .dataframe tbody tr th {\n",
       "        vertical-align: top;\n",
       "    }\n",
       "\n",
       "    .dataframe thead th {\n",
       "        text-align: right;\n",
       "    }\n",
       "</style>\n",
       "<table border=\"1\" class=\"dataframe\">\n",
       "  <thead>\n",
       "    <tr style=\"text-align: right;\">\n",
       "      <th></th>\n",
       "      <th>Id</th>\n",
       "      <th>MSSubClass</th>\n",
       "      <th>MSZoning</th>\n",
       "      <th>LotFrontage</th>\n",
       "      <th>LotArea</th>\n",
       "      <th>Street</th>\n",
       "      <th>Alley</th>\n",
       "      <th>LotShape</th>\n",
       "      <th>LandContour</th>\n",
       "      <th>Utilities</th>\n",
       "      <th>...</th>\n",
       "      <th>PoolArea</th>\n",
       "      <th>PoolQC</th>\n",
       "      <th>Fence</th>\n",
       "      <th>MiscFeature</th>\n",
       "      <th>MiscVal</th>\n",
       "      <th>MoSold</th>\n",
       "      <th>YrSold</th>\n",
       "      <th>SaleType</th>\n",
       "      <th>SaleCondition</th>\n",
       "      <th>SalePrice</th>\n",
       "    </tr>\n",
       "  </thead>\n",
       "  <tbody>\n",
       "    <tr>\n",
       "      <th>0</th>\n",
       "      <td>1</td>\n",
       "      <td>60</td>\n",
       "      <td>RL</td>\n",
       "      <td>65.0</td>\n",
       "      <td>8450</td>\n",
       "      <td>Pave</td>\n",
       "      <td>NaN</td>\n",
       "      <td>Reg</td>\n",
       "      <td>Lvl</td>\n",
       "      <td>AllPub</td>\n",
       "      <td>...</td>\n",
       "      <td>0</td>\n",
       "      <td>NaN</td>\n",
       "      <td>NaN</td>\n",
       "      <td>NaN</td>\n",
       "      <td>0</td>\n",
       "      <td>2</td>\n",
       "      <td>2008</td>\n",
       "      <td>WD</td>\n",
       "      <td>Normal</td>\n",
       "      <td>208500</td>\n",
       "    </tr>\n",
       "    <tr>\n",
       "      <th>1</th>\n",
       "      <td>2</td>\n",
       "      <td>20</td>\n",
       "      <td>RL</td>\n",
       "      <td>80.0</td>\n",
       "      <td>9600</td>\n",
       "      <td>Pave</td>\n",
       "      <td>NaN</td>\n",
       "      <td>Reg</td>\n",
       "      <td>Lvl</td>\n",
       "      <td>AllPub</td>\n",
       "      <td>...</td>\n",
       "      <td>0</td>\n",
       "      <td>NaN</td>\n",
       "      <td>NaN</td>\n",
       "      <td>NaN</td>\n",
       "      <td>0</td>\n",
       "      <td>5</td>\n",
       "      <td>2007</td>\n",
       "      <td>WD</td>\n",
       "      <td>Normal</td>\n",
       "      <td>181500</td>\n",
       "    </tr>\n",
       "    <tr>\n",
       "      <th>2</th>\n",
       "      <td>3</td>\n",
       "      <td>60</td>\n",
       "      <td>RL</td>\n",
       "      <td>68.0</td>\n",
       "      <td>11250</td>\n",
       "      <td>Pave</td>\n",
       "      <td>NaN</td>\n",
       "      <td>IR1</td>\n",
       "      <td>Lvl</td>\n",
       "      <td>AllPub</td>\n",
       "      <td>...</td>\n",
       "      <td>0</td>\n",
       "      <td>NaN</td>\n",
       "      <td>NaN</td>\n",
       "      <td>NaN</td>\n",
       "      <td>0</td>\n",
       "      <td>9</td>\n",
       "      <td>2008</td>\n",
       "      <td>WD</td>\n",
       "      <td>Normal</td>\n",
       "      <td>223500</td>\n",
       "    </tr>\n",
       "    <tr>\n",
       "      <th>3</th>\n",
       "      <td>4</td>\n",
       "      <td>70</td>\n",
       "      <td>RL</td>\n",
       "      <td>60.0</td>\n",
       "      <td>9550</td>\n",
       "      <td>Pave</td>\n",
       "      <td>NaN</td>\n",
       "      <td>IR1</td>\n",
       "      <td>Lvl</td>\n",
       "      <td>AllPub</td>\n",
       "      <td>...</td>\n",
       "      <td>0</td>\n",
       "      <td>NaN</td>\n",
       "      <td>NaN</td>\n",
       "      <td>NaN</td>\n",
       "      <td>0</td>\n",
       "      <td>2</td>\n",
       "      <td>2006</td>\n",
       "      <td>WD</td>\n",
       "      <td>Abnorml</td>\n",
       "      <td>140000</td>\n",
       "    </tr>\n",
       "    <tr>\n",
       "      <th>4</th>\n",
       "      <td>5</td>\n",
       "      <td>60</td>\n",
       "      <td>RL</td>\n",
       "      <td>84.0</td>\n",
       "      <td>14260</td>\n",
       "      <td>Pave</td>\n",
       "      <td>NaN</td>\n",
       "      <td>IR1</td>\n",
       "      <td>Lvl</td>\n",
       "      <td>AllPub</td>\n",
       "      <td>...</td>\n",
       "      <td>0</td>\n",
       "      <td>NaN</td>\n",
       "      <td>NaN</td>\n",
       "      <td>NaN</td>\n",
       "      <td>0</td>\n",
       "      <td>12</td>\n",
       "      <td>2008</td>\n",
       "      <td>WD</td>\n",
       "      <td>Normal</td>\n",
       "      <td>250000</td>\n",
       "    </tr>\n",
       "  </tbody>\n",
       "</table>\n",
       "<p>5 rows × 81 columns</p>\n",
       "</div>"
      ],
      "text/plain": [
       "   Id  MSSubClass MSZoning  LotFrontage  LotArea Street Alley LotShape  \\\n",
       "0   1          60       RL         65.0     8450   Pave   NaN      Reg   \n",
       "1   2          20       RL         80.0     9600   Pave   NaN      Reg   \n",
       "2   3          60       RL         68.0    11250   Pave   NaN      IR1   \n",
       "3   4          70       RL         60.0     9550   Pave   NaN      IR1   \n",
       "4   5          60       RL         84.0    14260   Pave   NaN      IR1   \n",
       "\n",
       "  LandContour Utilities  ... PoolArea PoolQC Fence MiscFeature MiscVal MoSold  \\\n",
       "0         Lvl    AllPub  ...        0    NaN   NaN         NaN       0      2   \n",
       "1         Lvl    AllPub  ...        0    NaN   NaN         NaN       0      5   \n",
       "2         Lvl    AllPub  ...        0    NaN   NaN         NaN       0      9   \n",
       "3         Lvl    AllPub  ...        0    NaN   NaN         NaN       0      2   \n",
       "4         Lvl    AllPub  ...        0    NaN   NaN         NaN       0     12   \n",
       "\n",
       "  YrSold  SaleType  SaleCondition  SalePrice  \n",
       "0   2008        WD         Normal     208500  \n",
       "1   2007        WD         Normal     181500  \n",
       "2   2008        WD         Normal     223500  \n",
       "3   2006        WD        Abnorml     140000  \n",
       "4   2008        WD         Normal     250000  \n",
       "\n",
       "[5 rows x 81 columns]"
      ]
     },
     "execution_count": 193,
     "metadata": {},
     "output_type": "execute_result"
    }
   ],
   "source": [
    "data = pd.read_csv(r'D:\\ML\\Занятие 9 Поиск выбросов и генерация новых признаков\\train.csv')\n",
    "data.head()"
   ]
  },
  {
   "cell_type": "code",
   "execution_count": 194,
   "id": "75c0e157",
   "metadata": {},
   "outputs": [
    {
     "name": "stdout",
     "output_type": "stream",
     "text": [
      "<class 'pandas.core.frame.DataFrame'>\n",
      "RangeIndex: 1460 entries, 0 to 1459\n",
      "Data columns (total 81 columns):\n",
      " #   Column         Non-Null Count  Dtype  \n",
      "---  ------         --------------  -----  \n",
      " 0   Id             1460 non-null   int64  \n",
      " 1   MSSubClass     1460 non-null   int64  \n",
      " 2   MSZoning       1460 non-null   object \n",
      " 3   LotFrontage    1201 non-null   float64\n",
      " 4   LotArea        1460 non-null   int64  \n",
      " 5   Street         1460 non-null   object \n",
      " 6   Alley          91 non-null     object \n",
      " 7   LotShape       1460 non-null   object \n",
      " 8   LandContour    1460 non-null   object \n",
      " 9   Utilities      1460 non-null   object \n",
      " 10  LotConfig      1460 non-null   object \n",
      " 11  LandSlope      1460 non-null   object \n",
      " 12  Neighborhood   1460 non-null   object \n",
      " 13  Condition1     1460 non-null   object \n",
      " 14  Condition2     1460 non-null   object \n",
      " 15  BldgType       1460 non-null   object \n",
      " 16  HouseStyle     1460 non-null   object \n",
      " 17  OverallQual    1460 non-null   int64  \n",
      " 18  OverallCond    1460 non-null   int64  \n",
      " 19  YearBuilt      1460 non-null   int64  \n",
      " 20  YearRemodAdd   1460 non-null   int64  \n",
      " 21  RoofStyle      1460 non-null   object \n",
      " 22  RoofMatl       1460 non-null   object \n",
      " 23  Exterior1st    1460 non-null   object \n",
      " 24  Exterior2nd    1460 non-null   object \n",
      " 25  MasVnrType     1452 non-null   object \n",
      " 26  MasVnrArea     1452 non-null   float64\n",
      " 27  ExterQual      1460 non-null   object \n",
      " 28  ExterCond      1460 non-null   object \n",
      " 29  Foundation     1460 non-null   object \n",
      " 30  BsmtQual       1423 non-null   object \n",
      " 31  BsmtCond       1423 non-null   object \n",
      " 32  BsmtExposure   1422 non-null   object \n",
      " 33  BsmtFinType1   1423 non-null   object \n",
      " 34  BsmtFinSF1     1460 non-null   int64  \n",
      " 35  BsmtFinType2   1422 non-null   object \n",
      " 36  BsmtFinSF2     1460 non-null   int64  \n",
      " 37  BsmtUnfSF      1460 non-null   int64  \n",
      " 38  TotalBsmtSF    1460 non-null   int64  \n",
      " 39  Heating        1460 non-null   object \n",
      " 40  HeatingQC      1460 non-null   object \n",
      " 41  CentralAir     1460 non-null   object \n",
      " 42  Electrical     1459 non-null   object \n",
      " 43  1stFlrSF       1460 non-null   int64  \n",
      " 44  2ndFlrSF       1460 non-null   int64  \n",
      " 45  LowQualFinSF   1460 non-null   int64  \n",
      " 46  GrLivArea      1460 non-null   int64  \n",
      " 47  BsmtFullBath   1460 non-null   int64  \n",
      " 48  BsmtHalfBath   1460 non-null   int64  \n",
      " 49  FullBath       1460 non-null   int64  \n",
      " 50  HalfBath       1460 non-null   int64  \n",
      " 51  BedroomAbvGr   1460 non-null   int64  \n",
      " 52  KitchenAbvGr   1460 non-null   int64  \n",
      " 53  KitchenQual    1460 non-null   object \n",
      " 54  TotRmsAbvGrd   1460 non-null   int64  \n",
      " 55  Functional     1460 non-null   object \n",
      " 56  Fireplaces     1460 non-null   int64  \n",
      " 57  FireplaceQu    770 non-null    object \n",
      " 58  GarageType     1379 non-null   object \n",
      " 59  GarageYrBlt    1379 non-null   float64\n",
      " 60  GarageFinish   1379 non-null   object \n",
      " 61  GarageCars     1460 non-null   int64  \n",
      " 62  GarageArea     1460 non-null   int64  \n",
      " 63  GarageQual     1379 non-null   object \n",
      " 64  GarageCond     1379 non-null   object \n",
      " 65  PavedDrive     1460 non-null   object \n",
      " 66  WoodDeckSF     1460 non-null   int64  \n",
      " 67  OpenPorchSF    1460 non-null   int64  \n",
      " 68  EnclosedPorch  1460 non-null   int64  \n",
      " 69  3SsnPorch      1460 non-null   int64  \n",
      " 70  ScreenPorch    1460 non-null   int64  \n",
      " 71  PoolArea       1460 non-null   int64  \n",
      " 72  PoolQC         7 non-null      object \n",
      " 73  Fence          281 non-null    object \n",
      " 74  MiscFeature    54 non-null     object \n",
      " 75  MiscVal        1460 non-null   int64  \n",
      " 76  MoSold         1460 non-null   int64  \n",
      " 77  YrSold         1460 non-null   int64  \n",
      " 78  SaleType       1460 non-null   object \n",
      " 79  SaleCondition  1460 non-null   object \n",
      " 80  SalePrice      1460 non-null   int64  \n",
      "dtypes: float64(3), int64(35), object(43)\n",
      "memory usage: 924.0+ KB\n"
     ]
    }
   ],
   "source": [
    "data.info()"
   ]
  },
  {
   "cell_type": "code",
   "execution_count": 195,
   "id": "cea3287a",
   "metadata": {},
   "outputs": [],
   "source": [
    "#Разделяем на тренировочные и тестовые данные\n",
    "\n",
    "data_train, data_test, y_train, y_test = train_test_split(data.drop(columns='SalePrice'), data['SalePrice'], test_size=0.30, random_state=42)"
   ]
  },
  {
   "cell_type": "code",
   "execution_count": 196,
   "id": "57be6989",
   "metadata": {},
   "outputs": [],
   "source": [
    "#Находим категориальные признаки\n",
    "\n",
    "categorials = list(data.dtypes[data.dtypes == object].index)\n",
    "\n",
    "categorials_nunique = data_train[categorials].nunique()\n",
    "\n",
    "#закодируем пропущенные значений строкой, факт пропущенного значения тоже может нести в себе информацию\n",
    "data_train[categorials] = data[categorials].fillna('nan')"
   ]
  },
  {
   "cell_type": "code",
   "execution_count": 197,
   "id": "0cfd60d0",
   "metadata": {},
   "outputs": [],
   "source": [
    "#отфильтруем непрерывные признаки\n",
    "integer = [f for f in data if f not in (categorials + ['ID', 'SalePrice'])]"
   ]
  },
  {
   "cell_type": "code",
   "execution_count": 198,
   "id": "5c2b71e1",
   "metadata": {},
   "outputs": [],
   "source": [
    "# Создаем дамми-переменные для категорий\n",
    "dummy_train = pd.get_dummies(data_train[categorials], columns=categorials)\n",
    "dummy_test = pd.get_dummies(data_test[categorials], columns=categorials)\n",
    "\n",
    "dummy_cols = list(set(dummy_train) & set(dummy_test))\n",
    "\n",
    "dummy_train = dummy_train[dummy_cols]\n",
    "dummy_test = dummy_test[dummy_cols]\n",
    "\n",
    "# Заменяем пропуски на специальное значение -999, чтобы деревья могли их отличить\n",
    "X_train = pd.concat([data_train[integer].fillna(-999), dummy_train], axis=1)\n",
    "\n",
    "X_test = pd.concat([data_test[integer].fillna(-999), dummy_test], axis=1)"
   ]
  },
  {
   "cell_type": "code",
   "execution_count": 199,
   "id": "7799b621",
   "metadata": {},
   "outputs": [
    {
     "data": {
      "text/html": [
       "<div>\n",
       "<style scoped>\n",
       "    .dataframe tbody tr th:only-of-type {\n",
       "        vertical-align: middle;\n",
       "    }\n",
       "\n",
       "    .dataframe tbody tr th {\n",
       "        vertical-align: top;\n",
       "    }\n",
       "\n",
       "    .dataframe thead th {\n",
       "        text-align: right;\n",
       "    }\n",
       "</style>\n",
       "<table border=\"1\" class=\"dataframe\">\n",
       "  <thead>\n",
       "    <tr style=\"text-align: right;\">\n",
       "      <th></th>\n",
       "      <th>Id</th>\n",
       "      <th>MSSubClass</th>\n",
       "      <th>LotFrontage</th>\n",
       "      <th>LotArea</th>\n",
       "      <th>OverallQual</th>\n",
       "      <th>OverallCond</th>\n",
       "      <th>YearBuilt</th>\n",
       "      <th>YearRemodAdd</th>\n",
       "      <th>MasVnrArea</th>\n",
       "      <th>BsmtFinSF1</th>\n",
       "      <th>...</th>\n",
       "      <th>BldgType_2fmCon</th>\n",
       "      <th>Exterior2nd_MetalSd</th>\n",
       "      <th>Heating_GasW</th>\n",
       "      <th>Neighborhood_Crawfor</th>\n",
       "      <th>LotConfig_FR2</th>\n",
       "      <th>KitchenQual_Fa</th>\n",
       "      <th>RoofMatl_WdShake</th>\n",
       "      <th>BldgType_TwnhsE</th>\n",
       "      <th>Neighborhood_SawyerW</th>\n",
       "      <th>Condition1_Norm</th>\n",
       "    </tr>\n",
       "  </thead>\n",
       "  <tbody>\n",
       "    <tr>\n",
       "      <th>135</th>\n",
       "      <td>136</td>\n",
       "      <td>20</td>\n",
       "      <td>80.0</td>\n",
       "      <td>10400</td>\n",
       "      <td>7</td>\n",
       "      <td>6</td>\n",
       "      <td>1970</td>\n",
       "      <td>1970</td>\n",
       "      <td>288.0</td>\n",
       "      <td>0</td>\n",
       "      <td>...</td>\n",
       "      <td>0</td>\n",
       "      <td>0</td>\n",
       "      <td>0</td>\n",
       "      <td>0</td>\n",
       "      <td>0</td>\n",
       "      <td>0</td>\n",
       "      <td>0</td>\n",
       "      <td>0</td>\n",
       "      <td>0</td>\n",
       "      <td>1</td>\n",
       "    </tr>\n",
       "    <tr>\n",
       "      <th>1452</th>\n",
       "      <td>1453</td>\n",
       "      <td>180</td>\n",
       "      <td>35.0</td>\n",
       "      <td>3675</td>\n",
       "      <td>5</td>\n",
       "      <td>5</td>\n",
       "      <td>2005</td>\n",
       "      <td>2005</td>\n",
       "      <td>80.0</td>\n",
       "      <td>547</td>\n",
       "      <td>...</td>\n",
       "      <td>0</td>\n",
       "      <td>0</td>\n",
       "      <td>0</td>\n",
       "      <td>0</td>\n",
       "      <td>0</td>\n",
       "      <td>0</td>\n",
       "      <td>0</td>\n",
       "      <td>1</td>\n",
       "      <td>0</td>\n",
       "      <td>1</td>\n",
       "    </tr>\n",
       "    <tr>\n",
       "      <th>762</th>\n",
       "      <td>763</td>\n",
       "      <td>60</td>\n",
       "      <td>72.0</td>\n",
       "      <td>8640</td>\n",
       "      <td>7</td>\n",
       "      <td>5</td>\n",
       "      <td>2009</td>\n",
       "      <td>2009</td>\n",
       "      <td>0.0</td>\n",
       "      <td>24</td>\n",
       "      <td>...</td>\n",
       "      <td>0</td>\n",
       "      <td>0</td>\n",
       "      <td>0</td>\n",
       "      <td>0</td>\n",
       "      <td>0</td>\n",
       "      <td>0</td>\n",
       "      <td>0</td>\n",
       "      <td>0</td>\n",
       "      <td>0</td>\n",
       "      <td>1</td>\n",
       "    </tr>\n",
       "    <tr>\n",
       "      <th>932</th>\n",
       "      <td>933</td>\n",
       "      <td>20</td>\n",
       "      <td>84.0</td>\n",
       "      <td>11670</td>\n",
       "      <td>9</td>\n",
       "      <td>5</td>\n",
       "      <td>2006</td>\n",
       "      <td>2006</td>\n",
       "      <td>302.0</td>\n",
       "      <td>0</td>\n",
       "      <td>...</td>\n",
       "      <td>0</td>\n",
       "      <td>0</td>\n",
       "      <td>0</td>\n",
       "      <td>0</td>\n",
       "      <td>0</td>\n",
       "      <td>0</td>\n",
       "      <td>0</td>\n",
       "      <td>0</td>\n",
       "      <td>0</td>\n",
       "      <td>0</td>\n",
       "    </tr>\n",
       "    <tr>\n",
       "      <th>435</th>\n",
       "      <td>436</td>\n",
       "      <td>60</td>\n",
       "      <td>43.0</td>\n",
       "      <td>10667</td>\n",
       "      <td>7</td>\n",
       "      <td>6</td>\n",
       "      <td>1996</td>\n",
       "      <td>1996</td>\n",
       "      <td>0.0</td>\n",
       "      <td>385</td>\n",
       "      <td>...</td>\n",
       "      <td>0</td>\n",
       "      <td>0</td>\n",
       "      <td>0</td>\n",
       "      <td>0</td>\n",
       "      <td>0</td>\n",
       "      <td>0</td>\n",
       "      <td>0</td>\n",
       "      <td>0</td>\n",
       "      <td>0</td>\n",
       "      <td>0</td>\n",
       "    </tr>\n",
       "  </tbody>\n",
       "</table>\n",
       "<p>5 rows × 255 columns</p>\n",
       "</div>"
      ],
      "text/plain": [
       "        Id  MSSubClass  LotFrontage  LotArea  OverallQual  OverallCond  \\\n",
       "135    136          20         80.0    10400            7            6   \n",
       "1452  1453         180         35.0     3675            5            5   \n",
       "762    763          60         72.0     8640            7            5   \n",
       "932    933          20         84.0    11670            9            5   \n",
       "435    436          60         43.0    10667            7            6   \n",
       "\n",
       "      YearBuilt  YearRemodAdd  MasVnrArea  BsmtFinSF1  ...  BldgType_2fmCon  \\\n",
       "135        1970          1970       288.0           0  ...                0   \n",
       "1452       2005          2005        80.0         547  ...                0   \n",
       "762        2009          2009         0.0          24  ...                0   \n",
       "932        2006          2006       302.0           0  ...                0   \n",
       "435        1996          1996         0.0         385  ...                0   \n",
       "\n",
       "      Exterior2nd_MetalSd  Heating_GasW  Neighborhood_Crawfor  LotConfig_FR2  \\\n",
       "135                     0             0                     0              0   \n",
       "1452                    0             0                     0              0   \n",
       "762                     0             0                     0              0   \n",
       "932                     0             0                     0              0   \n",
       "435                     0             0                     0              0   \n",
       "\n",
       "      KitchenQual_Fa  RoofMatl_WdShake  BldgType_TwnhsE  Neighborhood_SawyerW  \\\n",
       "135                0                 0                0                     0   \n",
       "1452               0                 0                1                     0   \n",
       "762                0                 0                0                     0   \n",
       "932                0                 0                0                     0   \n",
       "435                0                 0                0                     0   \n",
       "\n",
       "      Condition1_Norm  \n",
       "135                 1  \n",
       "1452                1  \n",
       "762                 1  \n",
       "932                 0  \n",
       "435                 0  \n",
       "\n",
       "[5 rows x 255 columns]"
      ]
     },
     "execution_count": 199,
     "metadata": {},
     "output_type": "execute_result"
    }
   ],
   "source": [
    "X_train.head()"
   ]
  },
  {
   "cell_type": "markdown",
   "id": "6ff988c3",
   "metadata": {},
   "source": [
    "## Random Forest"
   ]
  },
  {
   "cell_type": "code",
   "execution_count": 200,
   "id": "f2daa901",
   "metadata": {},
   "outputs": [
    {
     "data": {
      "text/plain": [
       "RandomForestRegressor()"
      ]
     },
     "execution_count": 200,
     "metadata": {},
     "output_type": "execute_result"
    }
   ],
   "source": [
    "clf_rf = RandomForestRegressor()\n",
    "clf_rf.fit(X_train, y_train)"
   ]
  },
  {
   "cell_type": "code",
   "execution_count": 201,
   "id": "933ce345",
   "metadata": {},
   "outputs": [],
   "source": [
    "from sklearn.model_selection import cross_val_score"
   ]
  },
  {
   "cell_type": "code",
   "execution_count": 204,
   "id": "8b3e234c",
   "metadata": {},
   "outputs": [],
   "source": [
    "scores = cross_val_score(clf_rf, X_test, y_test, cv=10)"
   ]
  },
  {
   "cell_type": "code",
   "execution_count": 205,
   "id": "cb010d76",
   "metadata": {},
   "outputs": [
    {
     "data": {
      "text/plain": [
       "array([0.80847152, 0.73641489, 0.83741292, 0.78132065, 0.76203026,\n",
       "       0.89501234, 0.87740819, 0.90158368, 0.90170486, 0.93010791])"
      ]
     },
     "execution_count": 205,
     "metadata": {},
     "output_type": "execute_result"
    }
   ],
   "source": [
    "scores"
   ]
  },
  {
   "cell_type": "code",
   "execution_count": 206,
   "id": "eb8ebe5f",
   "metadata": {},
   "outputs": [],
   "source": [
    "# выведем наиболее важные признаки\n",
    "imp = pd.Series(clf_rf.feature_importances_)"
   ]
  },
  {
   "cell_type": "code",
   "execution_count": 207,
   "id": "3f261d10",
   "metadata": {},
   "outputs": [],
   "source": [
    "imp.index = pd.Series(X_train.columns)"
   ]
  },
  {
   "cell_type": "code",
   "execution_count": 208,
   "id": "a07d7ab2",
   "metadata": {},
   "outputs": [
    {
     "data": {
      "image/png": "[encoded data removed]",
      "text/plain": [
       "<Figure size 432x288 with 1 Axes>"
      ]
     },
     "metadata": {
      "needs_background": "light"
     },
     "output_type": "display_data"
    }
   ],
   "source": [
    "plt.title('Top 5 feature importances')\n",
    "plt.xlabel('Features')\n",
    "plt.ylabel('Gini')\n",
    "plt.bar(imp.sort_values(ascending=False).head().index, imp.sort_values(ascending=False).head())\n",
    "plt.show()"
   ]
  },
  {
   "cell_type": "markdown",
   "id": "15282f8f",
   "metadata": {},
   "source": [
    "## Stacking (сначала классический)"
   ]
  },
  {
   "cell_type": "code",
   "execution_count": 209,
   "id": "8ece70e4",
   "metadata": {},
   "outputs": [],
   "source": [
    "from sklearn.ensemble import StackingRegressor\n",
    "from sklearn.linear_model import LinearRegression\n",
    "from sklearn.neighbors import KNeighborsRegressor\n",
    "from sklearn.tree import DecisionTreeRegressor\n",
    "from sklearn.linear_model import RidgeCV"
   ]
  },
  {
   "cell_type": "code",
   "execution_count": 210,
   "id": "77ea3da8",
   "metadata": {},
   "outputs": [],
   "source": [
    "# Создаем стэккинг и обучаем его на наших данных - линейная модель - линейная регрессия, метод ближайшего соседа и дерево - нелин.\n",
    "# модель второго уровня - ридж-регрессия\n",
    "Regressor = StackingRegressor(\n",
    "    [\n",
    "        ('LinearRegression', LinearRegression()),\n",
    "        ('KNeighborsRegressor', KNeighborsRegressor()),\n",
    "        ('DecisionTree', DecisionTreeRegressor())\n",
    "    ], RidgeCV())"
   ]
  },
  {
   "cell_type": "code",
   "execution_count": 211,
   "id": "86577a61",
   "metadata": {},
   "outputs": [
    {
     "data": {
      "text/plain": [
       "StackingRegressor(estimators=[('LinearRegression', LinearRegression()),\n",
       "                              ('KNeighborsRegressor', KNeighborsRegressor()),\n",
       "                              ('DecisionTree', DecisionTreeRegressor())],\n",
       "                  final_estimator=RidgeCV(alphas=array([ 0.1,  1. , 10. ])))"
      ]
     },
     "execution_count": 211,
     "metadata": {},
     "output_type": "execute_result"
    }
   ],
   "source": [
    "Regressor.fit(X_train, y_train)"
   ]
  },
  {
   "cell_type": "code",
   "execution_count": 213,
   "id": "8d311172",
   "metadata": {},
   "outputs": [
    {
     "name": "stdout",
     "output_type": "stream",
     "text": [
      "Score on train data 0.9443258213539543\n",
      "Score on test data 0.8638292207045231\n",
      "Score on train data with model LinearRegression 0.9221085403562431\n",
      "Score on test data with model LinearRegression 0.8533836050579271\n",
      "Score on train data with model KNeighborsRegressor 0.7419951520813983\n",
      "Score on test data with model KNeighborsRegressor 0.6775304068635524\n",
      "Score on train data with model DecisionTree 1.0\n",
      "Score on test data with model DecisionTree 0.7669373625158037\n"
     ]
    }
   ],
   "source": [
    "# видим, что stacking отработал лучше, чем отдельные модели, в него входящие\n",
    "print(f'Score on train data {Regressor.score(X_train, y_train)}')\n",
    "print(f'Score on test data {Regressor.score(X_test, y_test)}')\n",
    "\n",
    "for i in Regressor.named_estimators:\n",
    "    print(f'Score on train data with model {i} {Regressor.named_estimators_[i].score(X_train, y_train)}')\n",
    "    print(f'Score on test data with model {i} {Regressor.named_estimators_[i].score(X_test, y_test)}')\n"
   ]
  },
  {
   "cell_type": "markdown",
   "id": "b1151801",
   "metadata": {},
   "source": [
    "## Stacking (с hold-out выборкой, т.е. blending)"
   ]
  },
  {
   "cell_type": "code",
   "execution_count": 214,
   "id": "ec09143f",
   "metadata": {},
   "outputs": [],
   "source": [
    "# разделим train на 2 части\n",
    "data_train1, data_hold_out, y_train1, y_hold_out = train_test_split(data_train, y_train, test_size=0.30, random_state=42)"
   ]
  },
  {
   "cell_type": "code",
   "execution_count": 217,
   "id": "fcb5103c",
   "metadata": {},
   "outputs": [],
   "source": [
    "#Находим категориальные признаки\n",
    "\n",
    "categorials = list(data_train.dtypes[data_train.dtypes == object].index)\n",
    "\n",
    "categorials_nunique = data_train1[categorials].nunique()\n",
    "\n",
    "#закодируем пропущенные значений строкой, факт пропущенного значения тоже может нести в себе информацию\n",
    "data_train1[categorials] = data_train[categorials].fillna('nan')"
   ]
  },
  {
   "cell_type": "code",
   "execution_count": 218,
   "id": "38d40d92",
   "metadata": {},
   "outputs": [],
   "source": [
    "#отфильтруем непрерывные признаки\n",
    "integer = [f for f in data_train if f not in (categorials + ['ID', 'SalePrice'])]"
   ]
  },
  {
   "cell_type": "code",
   "execution_count": 220,
   "id": "2e2b2c83",
   "metadata": {},
   "outputs": [],
   "source": [
    "# Создаем дамми-переменные для категорий, пересекаем прзнаки как по новому train, так и по hold-out, так и по test-вой выборке изначальной\n",
    "dummy_train1 = pd.get_dummies(data_train1[categorials], columns=categorials)\n",
    "dummy_hold_out = pd.get_dummies(data_hold_out[categorials], columns=categorials)\n",
    "\n",
    "dummy_cols = list(set(dummy_train1) & set(dummy_hold_out) & set(dummy_test))\n",
    "\n",
    "dummy_train1 = dummy_train1[dummy_cols]\n",
    "dummy_hold_out = dummy_hold_out[dummy_cols]\n",
    "dummy_test = dummy_test[dummy_cols]\n",
    "\n",
    "# Заменяем пропуски на специальное значение -999, чтобы деревья могли их отличить\n",
    "X_train1 = pd.concat([data_train1[integer].fillna(-999), dummy_train1], axis=1)\n",
    "\n",
    "X_hold_out = pd.concat([data_hold_out[integer].fillna(-999), dummy_hold_out], axis=1)\n",
    "\n",
    "X_test = pd.concat([data_test[integer].fillna(-999), dummy_test], axis=1)"
   ]
  },
  {
   "cell_type": "markdown",
   "id": "675ec440",
   "metadata": {},
   "source": [
    "### Обучаем три модели первого уровня на обучающей выборке, затем через обученные модели прогоняем выборку hold-out, полученные ответы делаем признаками для модели второго уровня - ридж-регрессии. Далее переходим к тестовым данным - отдаем их на вход обученным алгоритмам первого уровня - получаем ответы. Полученные ответы передаются на вход обученному мета-алгоритму, который и даст итоговое предсказание."
   ]
  },
  {
   "cell_type": "code",
   "execution_count": 134,
   "id": "8262a5e9",
   "metadata": {},
   "outputs": [
    {
     "data": {
      "text/plain": [
       "LinearRegression()"
      ]
     },
     "execution_count": 134,
     "metadata": {},
     "output_type": "execute_result"
    }
   ],
   "source": [
    "# обучаем первую модель на обучающей выборке\n",
    "model1 = LinearRegression() \n",
    "model1.fit(X_train1, y_train1)"
   ]
  },
  {
   "cell_type": "code",
   "execution_count": 221,
   "id": "3bd12edc",
   "metadata": {},
   "outputs": [],
   "source": [
    "# получаем ответы\n",
    "array1 = model1.predict(X_hold_out)"
   ]
  },
  {
   "cell_type": "code",
   "execution_count": 222,
   "id": "0993730a",
   "metadata": {},
   "outputs": [
    {
     "data": {
      "text/plain": [
       "0.13184499842031772"
      ]
     },
     "execution_count": 222,
     "metadata": {},
     "output_type": "execute_result"
    }
   ],
   "source": [
    "# через кросс-валидацию определяем качество модели\n",
    "scores_lin_reg = cross_val_score(model1, X_hold_out, y_hold_out, cv=10)[1]\n",
    "scores_lin_reg"
   ]
  },
  {
   "cell_type": "code",
   "execution_count": 223,
   "id": "bc90ec15",
   "metadata": {},
   "outputs": [
    {
     "data": {
      "text/plain": [
       "KNeighborsRegressor()"
      ]
     },
     "execution_count": 223,
     "metadata": {},
     "output_type": "execute_result"
    }
   ],
   "source": [
    "# обучаем вторую модель на обучающей выборке\n",
    "model2 = KNeighborsRegressor()\n",
    "model2.fit(X_train1, y_train1)"
   ]
  },
  {
   "cell_type": "code",
   "execution_count": 226,
   "id": "5a551cfd",
   "metadata": {},
   "outputs": [],
   "source": [
    "# получаем ответы для второй модели\n",
    "array2 = model2.predict(X_hold_out)"
   ]
  },
  {
   "cell_type": "code",
   "execution_count": 230,
   "id": "6255fd4f",
   "metadata": {},
   "outputs": [
    {
     "data": {
      "text/plain": [
       "0.5243122339545987"
      ]
     },
     "execution_count": 230,
     "metadata": {},
     "output_type": "execute_result"
    }
   ],
   "source": [
    "# через кросс-валидацию определяем качество модели\n",
    "scores_KNeighbor = cross_val_score(model2, X_hold_out, y_hold_out, cv=10).mean()\n",
    "scores_KNeighbor"
   ]
  },
  {
   "cell_type": "code",
   "execution_count": 227,
   "id": "35ccf5b7",
   "metadata": {},
   "outputs": [
    {
     "data": {
      "text/plain": [
       "KNeighborsRegressor()"
      ]
     },
     "execution_count": 227,
     "metadata": {},
     "output_type": "execute_result"
    }
   ],
   "source": [
    "# обучаем третью модель на обучающей выборке\n",
    "model3 = KNeighborsRegressor()\n",
    "model3.fit(X_train1, y_train1)"
   ]
  },
  {
   "cell_type": "code",
   "execution_count": 228,
   "id": "84e953a5",
   "metadata": {},
   "outputs": [],
   "source": [
    "# получаем ответы\n",
    "array3 = model3.predict(X_hold_out)"
   ]
  },
  {
   "cell_type": "code",
   "execution_count": 229,
   "id": "6b36d12a",
   "metadata": {},
   "outputs": [
    {
     "data": {
      "text/plain": [
       "0.5243122339545987"
      ]
     },
     "execution_count": 229,
     "metadata": {},
     "output_type": "execute_result"
    }
   ],
   "source": [
    "# через кросс-валидацию определяем качество модели\n",
    "scores_DecisionTree = cross_val_score(model3, X_hold_out, y_hold_out, cv=10).mean()\n",
    "scores_DecisionTree"
   ]
  },
  {
   "cell_type": "code",
   "execution_count": 231,
   "id": "bb1b60ef",
   "metadata": {},
   "outputs": [
    {
     "data": {
      "text/html": [
       "<div>\n",
       "<style scoped>\n",
       "    .dataframe tbody tr th:only-of-type {\n",
       "        vertical-align: middle;\n",
       "    }\n",
       "\n",
       "    .dataframe tbody tr th {\n",
       "        vertical-align: top;\n",
       "    }\n",
       "\n",
       "    .dataframe thead th {\n",
       "        text-align: right;\n",
       "    }\n",
       "</style>\n",
       "<table border=\"1\" class=\"dataframe\">\n",
       "  <thead>\n",
       "    <tr style=\"text-align: right;\">\n",
       "      <th></th>\n",
       "      <th>array1</th>\n",
       "      <th>array2</th>\n",
       "      <th>array3</th>\n",
       "    </tr>\n",
       "  </thead>\n",
       "  <tbody>\n",
       "    <tr>\n",
       "      <th>0</th>\n",
       "      <td>227194.892305</td>\n",
       "      <td>271483.8</td>\n",
       "      <td>271483.8</td>\n",
       "    </tr>\n",
       "    <tr>\n",
       "      <th>1</th>\n",
       "      <td>137225.895299</td>\n",
       "      <td>149390.0</td>\n",
       "      <td>149390.0</td>\n",
       "    </tr>\n",
       "    <tr>\n",
       "      <th>2</th>\n",
       "      <td>206167.343956</td>\n",
       "      <td>183998.0</td>\n",
       "      <td>183998.0</td>\n",
       "    </tr>\n",
       "    <tr>\n",
       "      <th>3</th>\n",
       "      <td>259597.841881</td>\n",
       "      <td>240900.0</td>\n",
       "      <td>240900.0</td>\n",
       "    </tr>\n",
       "    <tr>\n",
       "      <th>4</th>\n",
       "      <td>326722.053391</td>\n",
       "      <td>329785.2</td>\n",
       "      <td>329785.2</td>\n",
       "    </tr>\n",
       "  </tbody>\n",
       "</table>\n",
       "</div>"
      ],
      "text/plain": [
       "          array1    array2    array3\n",
       "0  227194.892305  271483.8  271483.8\n",
       "1  137225.895299  149390.0  149390.0\n",
       "2  206167.343956  183998.0  183998.0\n",
       "3  259597.841881  240900.0  240900.0\n",
       "4  326722.053391  329785.2  329785.2"
      ]
     },
     "execution_count": 231,
     "metadata": {},
     "output_type": "execute_result"
    }
   ],
   "source": [
    "# объединим ответы трех моделей в новую выборку, которую подадим на вход мета-модели\n",
    "df = pd.DataFrame(array1, columns = ['array1'])\n",
    "df['array2'] = array2\n",
    "df['array3'] = array3\n",
    "df.head()"
   ]
  },
  {
   "cell_type": "code",
   "execution_count": 232,
   "id": "8e55f56d",
   "metadata": {},
   "outputs": [
    {
     "data": {
      "text/plain": [
       "RidgeCV(alphas=array([ 0.1,  1. , 10. ]))"
      ]
     },
     "execution_count": 232,
     "metadata": {},
     "output_type": "execute_result"
    }
   ],
   "source": [
    "# обучим мета-модель на отложенной выборке\n",
    "meta_model = RidgeCV()\n",
    "meta_model.fit(df,y_hold_out)"
   ]
  },
  {
   "cell_type": "code",
   "execution_count": 233,
   "id": "2c731f9c",
   "metadata": {},
   "outputs": [],
   "source": [
    "# теперь сделаем предсказание на тестовых данных на базовых моделях первого уровня\n",
    "test1 = model1.predict(X_test)\n",
    "test2 = model2.predict(X_test)\n",
    "test3 = model3.predict(X_test)"
   ]
  },
  {
   "cell_type": "code",
   "execution_count": 235,
   "id": "70a17935",
   "metadata": {},
   "outputs": [],
   "source": [
    "# сформируем признаки из ответов\n",
    "df_final = pd.DataFrame(test1, columns = ['test1'])\n",
    "df_final['test2'] = test2\n",
    "df_final['test3'] = test3"
   ]
  },
  {
   "cell_type": "code",
   "execution_count": 236,
   "id": "99a586fb",
   "metadata": {},
   "outputs": [],
   "source": [
    "# передадим выборку из ответов на тестовых данных базовых моделей мета-модели\n",
    "final_result = meta_model.predict(df_final)"
   ]
  },
  {
   "cell_type": "code",
   "execution_count": 237,
   "id": "5719fd09",
   "metadata": {},
   "outputs": [],
   "source": [
    "# посчитаем качество\n",
    "scores_blending = cross_val_score(meta_model, df, y_hold_out, cv=10)"
   ]
  },
  {
   "cell_type": "code",
   "execution_count": 238,
   "id": "3b1a6c75",
   "metadata": {},
   "outputs": [
    {
     "data": {
      "text/plain": [
       "0.8098308364376743"
      ]
     },
     "execution_count": 238,
     "metadata": {},
     "output_type": "execute_result"
    }
   ],
   "source": [
    "scores_blending.mean()"
   ]
  },
  {
   "cell_type": "markdown",
   "id": "03335f33",
   "metadata": {},
   "source": [
    "### Покажем, что использование ансамблей, действительно, улучшает качество. В задании сказано показать на выборке hold-out. "
   ]
  },
  {
   "cell_type": "code",
   "execution_count": 239,
   "id": "ccd00c5f",
   "metadata": {},
   "outputs": [],
   "source": [
    "score_hold_out = {'LinearRegression':scores_lin_reg, 'KNeighborsRegressor': scores_KNeighbor, 'DecisionTree' : scores_DecisionTree }"
   ]
  },
  {
   "cell_type": "code",
   "execution_count": 240,
   "id": "762d4342",
   "metadata": {},
   "outputs": [],
   "source": [
    "score_hold_out['Total']= scores_blending.mean()"
   ]
  },
  {
   "cell_type": "code",
   "execution_count": 241,
   "id": "de4b905a",
   "metadata": {},
   "outputs": [
    {
     "data": {
      "text/plain": [
       "<matplotlib.legend.Legend at 0x1bddc119d90>"
      ]
     },
     "execution_count": 241,
     "metadata": {},
     "output_type": "execute_result"
    },
    {
     "data": {
      "image/png": "[encoded data removed]",
      "text/plain": [
       "<Figure size 720x360 with 1 Axes>"
      ]
     },
     "metadata": {
      "needs_background": "light"
     },
     "output_type": "display_data"
    }
   ],
   "source": [
    "plt.figure(figsize=(10,5))\n",
    "plt.bar(range(len(score_hold_out)), score_hold_out.values(), align=\"center\", label='Train')\n",
    "plt.xticks(range(len(score_hold_out)), list(score_hold_out.keys()))\n",
    "plt.autoscale\n",
    "plt.title('Blending result')\n",
    "plt.xlabel('Models')\n",
    "plt.ylabel('Scores')\n",
    "plt.legend()"
   ]
  },
  {
   "cell_type": "markdown",
   "id": "940d193f",
   "metadata": {},
   "source": [
    "### Видим, что среднее значение score, полученное на основе блендинга, действительно, намного превышает score отдельных моделей, которые входили в его базовые модели."
   ]
  },
  {
   "cell_type": "code",
   "execution_count": null,
   "id": "c3176af1",
   "metadata": {},
   "outputs": [],
   "source": []
  }
 ],
 "metadata": {
  "kernelspec": {
   "display_name": "Python 3",
   "language": "python",
   "name": "python3"
  },
  "language_info": {
   "codemirror_mode": {
    "name": "ipython",
    "version": 3
   },
   "file_extension": ".py",
   "mimetype": "text/x-python",
   "name": "python",
   "nbconvert_exporter": "python",
   "pygments_lexer": "ipython3",
   "version": "3.8.8"
  }
 },
 "nbformat": 4,
 "nbformat_minor": 5
}
