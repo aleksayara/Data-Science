{
 "cells": [
  {
   "cell_type": "code",
   "execution_count": 1,
   "id": "5d71d067",
   "metadata": {},
   "outputs": [],
   "source": [
    "import numpy as np\n",
    "import pandas as pd\n",
    "import seaborn as sns\n",
    "\n",
    "from sklearn.linear_model import LinearRegression"
   ]
  },
  {
   "cell_type": "markdown",
   "id": "58bb0ba6",
   "metadata": {},
   "source": [
    "##### Будем использовать модель линейной регрессии для предсказания стоимости недвижимости. В качестве регрессоров возьмем такие признаки как: \n",
    "##### square - площадь, кв.м.\n",
    "##### number_rooms - количество жилых комнат\n",
    "##### distance_subway -  расстояние до станции метро, м.\n",
    "##### year - количество лет с постройки объекта недвижимости, в годах\n",
    "##### floor - этаж\n",
    "##### cost_Gazprom_share - стоимость акции Газпрома на момент продажи объекта недвижимости, руб.\n",
    "##### pet - наличие домашнего питомца у покупателя, dummy - переменная\n",
    "##### rainfall - толщина осадков за месяц в момент продажи объекта недвижиости, мм.\n",
    "##### целевая зависимость описывается следующим уравнением: \n",
    "##### price_house = 70000 * square + 50000 * number_rooms - 1500 * distance_subway - 3000 * year + 1000 * floor + 60000"
   ]
  },
  {
   "cell_type": "code",
   "execution_count": 82,
   "id": "ecb08233",
   "metadata": {},
   "outputs": [
    {
     "data": {
      "text/html": [
       "<div>\n",
       "<style scoped>\n",
       "    .dataframe tbody tr th:only-of-type {\n",
       "        vertical-align: middle;\n",
       "    }\n",
       "\n",
       "    .dataframe tbody tr th {\n",
       "        vertical-align: top;\n",
       "    }\n",
       "\n",
       "    .dataframe thead th {\n",
       "        text-align: right;\n",
       "    }\n",
       "</style>\n",
       "<table border=\"1\" class=\"dataframe\">\n",
       "  <thead>\n",
       "    <tr style=\"text-align: right;\">\n",
       "      <th></th>\n",
       "      <th>square</th>\n",
       "      <th>number_rooms</th>\n",
       "      <th>distance_subway</th>\n",
       "      <th>year</th>\n",
       "      <th>floor</th>\n",
       "      <th>cost_Gazprom_share</th>\n",
       "      <th>pet</th>\n",
       "      <th>rainfall</th>\n",
       "      <th>price_house</th>\n",
       "    </tr>\n",
       "  </thead>\n",
       "  <tbody>\n",
       "    <tr>\n",
       "      <th>0</th>\n",
       "      <td>20</td>\n",
       "      <td>3</td>\n",
       "      <td>1</td>\n",
       "      <td>27</td>\n",
       "      <td>4</td>\n",
       "      <td>384</td>\n",
       "      <td>0</td>\n",
       "      <td>3</td>\n",
       "      <td>1531500</td>\n",
       "    </tr>\n",
       "    <tr>\n",
       "      <th>1</th>\n",
       "      <td>38</td>\n",
       "      <td>3</td>\n",
       "      <td>1</td>\n",
       "      <td>6</td>\n",
       "      <td>16</td>\n",
       "      <td>144</td>\n",
       "      <td>0</td>\n",
       "      <td>5</td>\n",
       "      <td>2866500</td>\n",
       "    </tr>\n",
       "    <tr>\n",
       "      <th>2</th>\n",
       "      <td>40</td>\n",
       "      <td>3</td>\n",
       "      <td>1</td>\n",
       "      <td>28</td>\n",
       "      <td>24</td>\n",
       "      <td>179</td>\n",
       "      <td>1</td>\n",
       "      <td>9</td>\n",
       "      <td>2948500</td>\n",
       "    </tr>\n",
       "    <tr>\n",
       "      <th>3</th>\n",
       "      <td>41</td>\n",
       "      <td>4</td>\n",
       "      <td>2</td>\n",
       "      <td>12</td>\n",
       "      <td>2</td>\n",
       "      <td>197</td>\n",
       "      <td>0</td>\n",
       "      <td>5</td>\n",
       "      <td>3093000</td>\n",
       "    </tr>\n",
       "    <tr>\n",
       "      <th>4</th>\n",
       "      <td>60</td>\n",
       "      <td>3</td>\n",
       "      <td>2</td>\n",
       "      <td>37</td>\n",
       "      <td>19</td>\n",
       "      <td>361</td>\n",
       "      <td>1</td>\n",
       "      <td>5</td>\n",
       "      <td>4315000</td>\n",
       "    </tr>\n",
       "  </tbody>\n",
       "</table>\n",
       "</div>"
      ],
      "text/plain": [
       "   square  number_rooms  distance_subway  year  floor  cost_Gazprom_share  \\\n",
       "0      20             3                1    27      4                 384   \n",
       "1      38             3                1     6     16                 144   \n",
       "2      40             3                1    28     24                 179   \n",
       "3      41             4                2    12      2                 197   \n",
       "4      60             3                2    37     19                 361   \n",
       "\n",
       "   pet  rainfall  price_house  \n",
       "0    0         3      1531500  \n",
       "1    0         5      2866500  \n",
       "2    1         9      2948500  \n",
       "3    0         5      3093000  \n",
       "4    1         5      4315000  "
      ]
     },
     "execution_count": 82,
     "metadata": {},
     "output_type": "execute_result"
    }
   ],
   "source": [
    "n_samples = 1000\n",
    "\n",
    "square = np.random.choice(45, n_samples) + 20\n",
    "number_rooms = np.random.choice(2, n_samples) + 3\n",
    "distance_subway = np.random.choice(np.arange(1,3), n_samples) \n",
    "year = np.random.choice(40, n_samples) \n",
    "floor = np.random.choice(25, n_samples) \n",
    "cost_Gazprom_share = np.random.choice(500, n_samples) + 100\n",
    "pet = np.random.choice(2, n_samples)\n",
    "rainfall = np.random.choice(15, n_samples) \n",
    "\n",
    "price_house = 70000 * square + 50000 * number_rooms - 1500 * distance_subway - 3000 * year + 1000 * floor + 60000\n",
    "\n",
    "\n",
    "data = pd.DataFrame({'square': square, 'number_rooms': number_rooms, 'distance_subway': distance_subway, 'year': year, \\\n",
    "                     'floor' : floor, 'cost_Gazprom_share' : cost_Gazprom_share, 'pet' : pet, 'rainfall' : rainfall, \\\n",
    "                    'price_house' : price_house})\n",
    "data.head(5)"
   ]
  },
  {
   "cell_type": "code",
   "execution_count": 83,
   "id": "05d48c7c",
   "metadata": {},
   "outputs": [],
   "source": [
    "from sklearn.metrics import mean_absolute_error"
   ]
  },
  {
   "cell_type": "markdown",
   "id": "4ba66f53",
   "metadata": {},
   "source": [
    "##### Построим модель линейной регрессии по всем 8-ми признакам, обучение будем проводить на первых 700 объектах, прогнозирование -  на оставшихся 300 объектах. \n",
    "##### Выведем коэффициенты при регрессорах, а также константу, которая показывает смещение по оси ординат.\n",
    "#####  через метод predict выполним прогнозирование на основе полученной модели.\n",
    "#####  выведем среднюю абсолютную ошибку полученной модели"
   ]
  },
  {
   "cell_type": "code",
   "execution_count": 84,
   "id": "b6d55be1",
   "metadata": {},
   "outputs": [
    {
     "name": "stdout",
     "output_type": "stream",
     "text": [
      "Weights: [ 7.00000000e+04  5.00000000e+04 -1.50000000e+03 -3.00000000e+03\n",
      "  1.00000000e+03 -3.20142135e-10 -1.13828946e-11  6.02540240e-12]\n",
      "Bias: 60000.000000108965\n",
      "R^2: 1.0\n",
      "Error: 3.887262816230456e-08\n"
     ]
    }
   ],
   "source": [
    "X = data[['square', 'number_rooms', 'distance_subway', 'year', 'floor','cost_Gazprom_share', 'pet', 'rainfall']]\n",
    "y = data['price_house']\n",
    "reg = LinearRegression().fit(X[:700],y[:700])\n",
    "print('Weights: {}'.format(reg.coef_))\n",
    "print('Bias: {}'.format(reg.intercept_))\n",
    "\n",
    "pred_values = reg.predict(X[700:])\n",
    "\n",
    "score = reg.score(X[700:],y[700:])\n",
    "print('R^2: {}'.format(score))\n",
    "\n",
    "print('Error: {}'.format(mean_absolute_error(pred_values, y[700:])))"
   ]
  },
  {
   "cell_type": "code",
   "execution_count": 85,
   "id": "4483be57",
   "metadata": {},
   "outputs": [
    {
     "data": {
      "text/plain": [
       "3094250.0"
      ]
     },
     "execution_count": 85,
     "metadata": {},
     "output_type": "execute_result"
    }
   ],
   "source": [
    "y.median()"
   ]
  },
  {
   "cell_type": "markdown",
   "id": "4f0d952c",
   "metadata": {},
   "source": [
    "##### Как мы видим, коэффициенты при ожидаемо лишних регрессорах рассчитались близкими к нулю, поэтому коэффициент детерминации равен 1 и средняя абсолютная ошибка прблизительно равна 0. Однако, несмотря на то что нам повезло на данном примере, мы можем последовательно (или сразу все три) убирать регрессоры, которые не были заложены в расчет зависимой переменной, и оценивать, как это повлияет на качество модели."
   ]
  },
  {
   "cell_type": "code",
   "execution_count": 86,
   "id": "faf99a1d",
   "metadata": {},
   "outputs": [
    {
     "name": "stdout",
     "output_type": "stream",
     "text": [
      "Weights: [ 7.00000000e+04  5.00000000e+04 -1.50000000e+03 -3.00000000e+03\n",
      "  1.00000000e+03 -7.27595761e-12 -4.83169060e-12]\n",
      "Bias: 60000.00000000326\n",
      "Error: 9.747842947642008e-10\n"
     ]
    }
   ],
   "source": [
    "# уберем признак rainfall\n",
    "X = data[['square', 'number_rooms', 'distance_subway', 'year', 'floor','cost_Gazprom_share', 'pet']]\n",
    "y = data['price_house']\n",
    "reg = LinearRegression().fit(X[:700],y[:700])\n",
    "print('Weights: {}'.format(reg.coef_))\n",
    "print('Bias: {}'.format(reg.intercept_))\n",
    "\n",
    "pred_values = reg.predict(X[700:])\n",
    "\n",
    "print('Error: {}'.format(mean_absolute_error(pred_values, y[700:])))"
   ]
  },
  {
   "cell_type": "markdown",
   "id": "b9deeaa0",
   "metadata": {},
   "source": [
    "##### Небольшое значение средней абсолютной ошибки еще более уменьшилось, то есть, признак rainfall не улучшал качество модели, значит, он в модели не нужен."
   ]
  },
  {
   "cell_type": "code",
   "execution_count": 89,
   "id": "86a549d4",
   "metadata": {},
   "outputs": [
    {
     "name": "stdout",
     "output_type": "stream",
     "text": [
      "Weights: [70000. 50000. -1500. -3000.  1000.]\n",
      "Bias: 59999.99999999907\n",
      "R^2: 1.0\n",
      "Error: 3.927076856295268e-10\n"
     ]
    }
   ],
   "source": [
    "# уберем признаки cost_Gazprom_share и pet\n",
    "X = data[['square', 'number_rooms', 'distance_subway', 'year', 'floor']]\n",
    "y = data['price_house']\n",
    "reg = LinearRegression().fit(X[:700],y[:700])\n",
    "print('Weights: {}'.format(reg.coef_))\n",
    "print('Bias: {}'.format(reg.intercept_))\n",
    "\n",
    "pred_values = reg.predict(X[700:])\n",
    "\n",
    "score = reg.score(X[700:],y[700:])\n",
    "print('R^2: {}'.format(score))\n",
    "\n",
    "print('Error: {}'.format(mean_absolute_error(pred_values, y[700:])))"
   ]
  },
  {
   "cell_type": "markdown",
   "id": "110663e0",
   "metadata": {},
   "source": [
    "##### MAE еще уменьшилась. Как можно видеть, коэффициенты при регрессорах найдены точные, небольшое (статистически незначимое) отклонение есть только в смещении. Можно также провести обучение на всех данных"
   ]
  },
  {
   "cell_type": "code",
   "execution_count": 93,
   "id": "24c4795c",
   "metadata": {},
   "outputs": [
    {
     "name": "stdout",
     "output_type": "stream",
     "text": [
      "Weights: [70000. 50000. -1500. -3000.  1000.]\n",
      "Bias: 60000.000000000466\n",
      "R^2: 1.0\n",
      "Error: 1.1338852345943451e-10\n"
     ]
    }
   ],
   "source": [
    "X = data[['square', 'number_rooms', 'distance_subway', 'year', 'floor']]\n",
    "y = data['price_house']\n",
    "reg = LinearRegression().fit(X,y)\n",
    "print('Weights: {}'.format(reg.coef_))\n",
    "print('Bias: {}'.format(reg.intercept_))\n",
    "\n",
    "pred_values = reg.predict(X)\n",
    "\n",
    "score = reg.score(X,y)\n",
    "print('R^2: {}'.format(score))\n",
    "\n",
    "print('Error: {}'.format(mean_absolute_error(pred_values, y)))"
   ]
  },
  {
   "cell_type": "markdown",
   "id": "e65e62ce",
   "metadata": {},
   "source": [
    "##### Таким образом, добавление лишних регрессоров ухудшает качество модели или, по крайней мере, не улучшает его. Соответственно, незачем перегружать модель. "
   ]
  },
  {
   "cell_type": "code",
   "execution_count": null,
   "id": "380b474b",
   "metadata": {},
   "outputs": [],
   "source": []
  }
 ],
 "metadata": {
  "kernelspec": {
   "display_name": "Python 3",
   "language": "python",
   "name": "python3"
  },
  "language_info": {
   "codemirror_mode": {
    "name": "ipython",
    "version": 3
   },
   "file_extension": ".py",
   "mimetype": "text/x-python",
   "name": "python",
   "nbconvert_exporter": "python",
   "pygments_lexer": "ipython3",
   "version": "3.8.8"
  }
 },
 "nbformat": 4,
 "nbformat_minor": 5
}
